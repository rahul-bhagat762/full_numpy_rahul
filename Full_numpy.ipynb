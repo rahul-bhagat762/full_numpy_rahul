{
 "cells": [
  {
   "cell_type": "code",
   "execution_count": 1,
   "id": "10f34f4a-c7a1-4484-8d28-ad5f23554500",
   "metadata": {},
   "outputs": [],
   "source": [
    "##import numpy \n",
    "import numpy as np ##numpy developed in 2005 by Travis Oliphant"
   ]
  },
  {
   "cell_type": "code",
   "execution_count": 2,
   "id": "548cf21e-32b3-4f0b-8d1e-9b3e4ac52f72",
   "metadata": {},
   "outputs": [
    {
     "data": {
      "text/plain": [
       "'1.23.5'"
      ]
     },
     "execution_count": 2,
     "metadata": {},
     "output_type": "execute_result"
    }
   ],
   "source": [
    "np.__version__"
   ]
  },
  {
   "cell_type": "code",
   "execution_count": 3,
   "id": "71172e45-da87-4709-855d-8ecd14c06725",
   "metadata": {},
   "outputs": [
    {
     "name": "stdout",
     "output_type": "stream",
     "text": [
      "\n",
      "NumPy\n",
      "=====\n",
      "\n",
      "Provides\n",
      "  1. An array object of arbitrary homogeneous items\n",
      "  2. Fast mathematical operations over arrays\n",
      "  3. Linear Algebra, Fourier Transforms, Random Number Generation\n",
      "\n",
      "How to use the documentation\n",
      "----------------------------\n",
      "Documentation is available in two forms: docstrings provided\n",
      "with the code, and a loose standing reference guide, available from\n",
      "`the NumPy homepage <https://numpy.org>`_.\n",
      "\n",
      "We recommend exploring the docstrings using\n",
      "`IPython <https://ipython.org>`_, an advanced Python shell with\n",
      "TAB-completion and introspection capabilities.  See below for further\n",
      "instructions.\n",
      "\n",
      "The docstring examples assume that `numpy` has been imported as `np`::\n",
      "\n",
      "  >>> import numpy as np\n",
      "\n",
      "Code snippets are indicated by three greater-than signs::\n",
      "\n",
      "  >>> x = 42\n",
      "  >>> x = x + 1\n",
      "\n",
      "Use the built-in ``help`` function to view a function's docstring::\n",
      "\n",
      "  >>> help(np.sort)\n",
      "  ... # doctest: +SKIP\n",
      "\n",
      "For some objects, ``np.info(obj)`` may provide additional help.  This is\n",
      "particularly true if you see the line \"Help on ufunc object:\" at the top\n",
      "of the help() page.  Ufuncs are implemented in C, not Python, for speed.\n",
      "The native Python help() does not know how to view their help, but our\n",
      "np.info() function does.\n",
      "\n",
      "To search for documents containing a keyword, do::\n",
      "\n",
      "  >>> np.lookfor('keyword')\n",
      "  ... # doctest: +SKIP\n",
      "\n",
      "General-purpose documents like a glossary and help on the basic concepts\n",
      "of numpy are available under the ``doc`` sub-module::\n",
      "\n",
      "  >>> from numpy import doc\n",
      "  >>> help(doc)\n",
      "  ... # doctest: +SKIP\n",
      "\n",
      "Available subpackages\n",
      "---------------------\n",
      "lib\n",
      "    Basic functions used by several sub-packages.\n",
      "random\n",
      "    Core Random Tools\n",
      "linalg\n",
      "    Core Linear Algebra Tools\n",
      "fft\n",
      "    Core FFT routines\n",
      "polynomial\n",
      "    Polynomial tools\n",
      "testing\n",
      "    NumPy testing tools\n",
      "distutils\n",
      "    Enhancements to distutils with support for\n",
      "    Fortran compilers support and more.\n",
      "\n",
      "Utilities\n",
      "---------\n",
      "test\n",
      "    Run numpy unittests\n",
      "show_config\n",
      "    Show numpy build configuration\n",
      "dual\n",
      "    Overwrite certain functions with high-performance SciPy tools.\n",
      "    Note: `numpy.dual` is deprecated.  Use the functions from NumPy or Scipy\n",
      "    directly instead of importing them from `numpy.dual`.\n",
      "matlib\n",
      "    Make everything matrices.\n",
      "__version__\n",
      "    NumPy version string\n",
      "\n",
      "Viewing documentation using IPython\n",
      "-----------------------------------\n",
      "Start IPython with the NumPy profile (``ipython -p numpy``), which will\n",
      "import `numpy` under the alias `np`.  Then, use the ``cpaste`` command to\n",
      "paste examples into the shell.  To see which functions are available in\n",
      "`numpy`, type ``np.<TAB>`` (where ``<TAB>`` refers to the TAB key), or use\n",
      "``np.*cos*?<ENTER>`` (where ``<ENTER>`` refers to the ENTER key) to narrow\n",
      "down the list.  To view the docstring for a function, use\n",
      "``np.cos?<ENTER>`` (to view the docstring) and ``np.cos??<ENTER>`` (to view\n",
      "the source code).\n",
      "\n",
      "Copies vs. in-place operation\n",
      "-----------------------------\n",
      "Most of the functions in `numpy` return a copy of the array argument\n",
      "(e.g., `np.sort`).  In-place versions of these functions are often\n",
      "available as array methods, i.e. ``x = np.array([1,2,3]); x.sort()``.\n",
      "Exceptions to this rule are documented.\n",
      "\n",
      "\n"
     ]
    }
   ],
   "source": [
    "print(np.__doc__)"
   ]
  },
  {
   "cell_type": "code",
   "execution_count": 4,
   "id": "39fcebaf-9d24-4b77-b612-8a6542ac9673",
   "metadata": {},
   "outputs": [],
   "source": [
    "##why numpy\n",
    "##mathematical functions \n",
    "##faster as compare to list and it is fast because it is developed in c++ which use array and c++ is upgarded version of c and c++ is fater language in present scenario\n"
   ]
  },
  {
   "cell_type": "code",
   "execution_count": 5,
   "id": "f8cf5cfd-8c68-4466-ad45-ba78d988ff56",
   "metadata": {},
   "outputs": [],
   "source": [
    "# list convert into numpy array\n",
    "l = [1,2,3,4,5,6]\n",
    "arr = np.array(l)"
   ]
  },
  {
   "cell_type": "code",
   "execution_count": 6,
   "id": "1da3175f-ad03-43be-ad1b-4a932337eb78",
   "metadata": {},
   "outputs": [
    {
     "data": {
      "text/plain": [
       "numpy.ndarray"
      ]
     },
     "execution_count": 6,
     "metadata": {},
     "output_type": "execute_result"
    }
   ],
   "source": [
    "type(arr) ##ndarray is n dimentinal array \n",
    "# why array - array is the way numpy stores the data\n",
    "# array is only stores homogineous(Similar) type of data\n"
   ]
  },
  {
   "cell_type": "code",
   "execution_count": 7,
   "id": "696f687e-0850-4130-a5f7-9f2d2f26d70c",
   "metadata": {},
   "outputs": [
    {
     "data": {
      "text/plain": [
       "1"
      ]
     },
     "execution_count": 7,
     "metadata": {},
     "output_type": "execute_result"
    }
   ],
   "source": [
    "##find dimmension\n",
    "##Convert a number or string to an integer, or return 0 if no arguments\n",
    "# are given.  If x is a number, return x.__int__().  For floating point\n",
    "# numbers, this truncates towards zero.\n",
    "\n",
    "# If x is not a number or if base is given, then x must be a string,\n",
    "# bytes, or bytearray instance representing an integer literal in the\n",
    "# given base.  The literal can be preceded by '+' or '-' and be surrounded\n",
    "# by whitespace.  The base defaults to 10.  Valid bases are 0 and 2-36.\n",
    "# Base 0 means to interpret the base from the string as an integer literal.\n",
    "# >>> int('0b100', base=0)\n",
    "arr.ndim ##simpy it gives dimmension of the given data"
   ]
  },
  {
   "cell_type": "code",
   "execution_count": 8,
   "id": "9258d4c0-1d35-4e8d-b6b3-0437dfd5ea31",
   "metadata": {},
   "outputs": [
    {
     "data": {
      "text/plain": [
       "array(['1', '2', '3', '4', '5', 'rishi'], dtype='<U21')"
      ]
     },
     "execution_count": 8,
     "metadata": {},
     "output_type": "execute_result"
    }
   ],
   "source": [
    "l = [1,2,3,4,5,'rishi']\n",
    "arr1 = np.array(l)\n",
    "arr1 #array(['1', '2', '3', '4', '5', 'rishi'], dtype='<U21') here all the elements convert into string because one element is string"
   ]
  },
  {
   "cell_type": "code",
   "execution_count": 9,
   "id": "e558ff47-5401-435d-9670-c6ecc338c467",
   "metadata": {},
   "outputs": [
    {
     "data": {
      "text/plain": [
       "1"
      ]
     },
     "execution_count": 9,
     "metadata": {},
     "output_type": "execute_result"
    }
   ],
   "source": [
    "arr1.ndim"
   ]
  },
  {
   "cell_type": "code",
   "execution_count": 10,
   "id": "72c2ae0b-3eda-4c47-9d99-2458f789ffe4",
   "metadata": {},
   "outputs": [],
   "source": [
    "arr2 = np.array([[1,2,3],[4,5,6]])"
   ]
  },
  {
   "cell_type": "code",
   "execution_count": 11,
   "id": "3b79c459-9aca-41ad-a8f2-0a6e9bd0dbda",
   "metadata": {},
   "outputs": [
    {
     "data": {
      "text/plain": [
       "2"
      ]
     },
     "execution_count": 11,
     "metadata": {},
     "output_type": "execute_result"
    }
   ],
   "source": [
    "arr2.ndim #here dimmension is 2 "
   ]
  },
  {
   "cell_type": "code",
   "execution_count": 12,
   "id": "dac604cb-38e3-482e-b368-e25da793d3cf",
   "metadata": {},
   "outputs": [],
   "source": [
    "# Matrix\n",
    "l2 = [1,2,3,4]\n",
    "mat = np.matrix(l2) ##Matrix will be bydefault 2d\n",
    "# Init signature: np.matrix(data, dtype=None, copy=True)\n",
    "# Docstring:     \n",
    "# matrix(data, dtype=None, copy=True)\n",
    "\n",
    "# .. note:: It is no longer recommended to use this class, even for linear\n",
    "#           algebra. Instead use regular arrays. The class may be removed\n",
    "#           in the future.\n",
    "\n",
    "# Returns a matrix from an array-like object, or from a string of data.\n",
    "# A matrix is a specialized 2-D array that retains its 2-D nature\n",
    "# through operations.  It has certain special operators, such as ``*``\n",
    "# (matrix multiplication) and ``**`` (matrix power).\n",
    "\n",
    "# Parameters\n",
    "# ----------\n",
    "# data : array_like or string\n",
    "#    If `data` is a string, it is interpreted as a matrix with commas\n",
    "#    or spaces separating columns, and semicolons separating rows.\n",
    "# dtype : data-type\n",
    "#    Data-type of the output matrix.\n",
    "# copy : bool\n",
    "#    If `data` is already an `ndarray`, then this flag determines\n",
    "#    whether the data is copied (the default), or whether a view is\n",
    "#    constructed.\n",
    "\n",
    "# See Also\n",
    "# --------\n",
    "# array\n",
    "\n",
    "# Examples\n",
    "# --------\n",
    "# >>> a = np.matrix('1 2; 3 4')\n",
    "# >>> a\n",
    "# matrix([[1, 2],\n",
    "#         [3, 4]])\n",
    "\n",
    "# >>> np.matrix([[1, 2], [3, 4]])\n",
    "# matrix([[1, 2],\n",
    "#         [3, 4]])\n",
    "# File:           /opt/conda/lib/python3.10/site-packages/numpy/__init__.py\n",
    "# Type:           type\n",
    "# Subclasses:  "
   ]
  },
  {
   "cell_type": "code",
   "execution_count": 13,
   "id": "1c84e5dc-25bc-4a4a-892c-d3bb124f1400",
   "metadata": {},
   "outputs": [
    {
     "ename": "ValueError",
     "evalue": "matrix must be 2-dimensional",
     "output_type": "error",
     "traceback": [
      "\u001b[0;31m---------------------------------------------------------------------------\u001b[0m",
      "\u001b[0;31mValueError\u001b[0m                                Traceback (most recent call last)",
      "Cell \u001b[0;32mIn[13], line 1\u001b[0m\n\u001b[0;32m----> 1\u001b[0m mat \u001b[38;5;241m=\u001b[39m \u001b[43mnp\u001b[49m\u001b[38;5;241;43m.\u001b[39;49m\u001b[43mmatrix\u001b[49m\u001b[43m(\u001b[49m\u001b[43m[\u001b[49m\u001b[43m[\u001b[49m\u001b[43m[\u001b[49m\u001b[38;5;241;43m1\u001b[39;49m\u001b[43m,\u001b[49m\u001b[38;5;241;43m2\u001b[39;49m\u001b[43m]\u001b[49m\u001b[43m,\u001b[49m\u001b[43m[\u001b[49m\u001b[38;5;241;43m3\u001b[39;49m\u001b[43m,\u001b[49m\u001b[38;5;241;43m4\u001b[39;49m\u001b[43m]\u001b[49m\u001b[43m,\u001b[49m\u001b[43m[\u001b[49m\u001b[38;5;241;43m5\u001b[39;49m\u001b[43m,\u001b[49m\u001b[38;5;241;43m6\u001b[39;49m\u001b[43m]\u001b[49m\u001b[43m]\u001b[49m\u001b[43m]\u001b[49m\u001b[43m)\u001b[49m \u001b[38;5;66;03m#ValueError: matrix must be 2-dimensional \u001b[39;00m\n\u001b[1;32m      2\u001b[0m \u001b[38;5;66;03m#matrix is the subclass of array\u001b[39;00m\n",
      "File \u001b[0;32m/opt/conda/lib/python3.10/site-packages/numpy/matrixlib/defmatrix.py:149\u001b[0m, in \u001b[0;36mmatrix.__new__\u001b[0;34m(subtype, data, dtype, copy)\u001b[0m\n\u001b[1;32m    147\u001b[0m shape \u001b[38;5;241m=\u001b[39m arr\u001b[38;5;241m.\u001b[39mshape\n\u001b[1;32m    148\u001b[0m \u001b[38;5;28;01mif\u001b[39;00m (ndim \u001b[38;5;241m>\u001b[39m \u001b[38;5;241m2\u001b[39m):\n\u001b[0;32m--> 149\u001b[0m     \u001b[38;5;28;01mraise\u001b[39;00m \u001b[38;5;167;01mValueError\u001b[39;00m(\u001b[38;5;124m\"\u001b[39m\u001b[38;5;124mmatrix must be 2-dimensional\u001b[39m\u001b[38;5;124m\"\u001b[39m)\n\u001b[1;32m    150\u001b[0m \u001b[38;5;28;01melif\u001b[39;00m ndim \u001b[38;5;241m==\u001b[39m \u001b[38;5;241m0\u001b[39m:\n\u001b[1;32m    151\u001b[0m     shape \u001b[38;5;241m=\u001b[39m (\u001b[38;5;241m1\u001b[39m, \u001b[38;5;241m1\u001b[39m)\n",
      "\u001b[0;31mValueError\u001b[0m: matrix must be 2-dimensional"
     ]
    }
   ],
   "source": [
    "mat = np.matrix([[[1,2],[3,4],[5,6]]]) #ValueError: matrix must be 2-dimensional \n",
    "#matrix is the subclass of array"
   ]
  },
  {
   "cell_type": "code",
   "execution_count": 14,
   "id": "50222c07-104b-405a-a927-6acb72003223",
   "metadata": {},
   "outputs": [
    {
     "data": {
      "text/plain": [
       "array([[[1, 2],\n",
       "        [3, 4],\n",
       "        [5, 6]]])"
      ]
     },
     "execution_count": 14,
     "metadata": {},
     "output_type": "execute_result"
    }
   ],
   "source": [
    "np.array([[[1,2],[3,4],[5,6]]])"
   ]
  },
  {
   "cell_type": "code",
   "execution_count": 15,
   "id": "4445ddfd-906f-48f9-a38f-2f4ded43b929",
   "metadata": {},
   "outputs": [
    {
     "data": {
      "text/plain": [
       "array([[[1, 2],\n",
       "        [3, 4],\n",
       "        [5, 6]]])"
      ]
     },
     "execution_count": 15,
     "metadata": {},
     "output_type": "execute_result"
    }
   ],
   "source": [
    "np.asarray([[[1,2],[3,4],[5,6]]])"
   ]
  },
  {
   "cell_type": "code",
   "execution_count": 16,
   "id": "0e313586-4e1c-44e0-9218-4627319a10cc",
   "metadata": {},
   "outputs": [
    {
     "data": {
      "text/plain": [
       "array([[[1, 2],\n",
       "        [3, 4],\n",
       "        [5, 6]]])"
      ]
     },
     "execution_count": 16,
     "metadata": {},
     "output_type": "execute_result"
    }
   ],
   "source": [
    "np.asanyarray([[[1,2],[3,4],[5,6]]])"
   ]
  },
  {
   "cell_type": "code",
   "execution_count": 17,
   "id": "4d7e1d9d-fc19-4010-9263-d7487b050a99",
   "metadata": {},
   "outputs": [
    {
     "data": {
      "text/plain": [
       "matrix([[1, 2, 3, 4]])"
      ]
     },
     "execution_count": 17,
     "metadata": {},
     "output_type": "execute_result"
    }
   ],
   "source": [
    "np.asanyarray(mat) #Convert the input to an ndarray, but pass ndarray subclasses through."
   ]
  },
  {
   "cell_type": "code",
   "execution_count": 18,
   "id": "b2f72beb-c593-4947-bac3-948125b473c1",
   "metadata": {},
   "outputs": [
    {
     "data": {
      "text/plain": [
       "array([1, 2, 3, 4])"
      ]
     },
     "execution_count": 18,
     "metadata": {},
     "output_type": "execute_result"
    }
   ],
   "source": [
    "##tuple into array\n",
    "t = (1,2,3,4)\n",
    "arr = np.array(t)\n",
    "arr"
   ]
  },
  {
   "cell_type": "code",
   "execution_count": 19,
   "id": "2685f92e-1f8a-4904-8f67-babef30cedad",
   "metadata": {},
   "outputs": [
    {
     "data": {
      "text/plain": [
       "array([1, 2, 3, 4, 5])"
      ]
     },
     "execution_count": 19,
     "metadata": {},
     "output_type": "execute_result"
    }
   ],
   "source": [
    "##shallow \n",
    "arr = np.array([1,2,3,4,5])\n",
    "arr"
   ]
  },
  {
   "cell_type": "code",
   "execution_count": 20,
   "id": "11dcc15e-fac6-4b5a-af7c-07bba9093b41",
   "metadata": {},
   "outputs": [
    {
     "data": {
      "text/plain": [
       "array([1, 2, 3, 4, 5])"
      ]
     },
     "execution_count": 20,
     "metadata": {},
     "output_type": "execute_result"
    }
   ],
   "source": [
    "a = arr\n",
    "a"
   ]
  },
  {
   "cell_type": "code",
   "execution_count": 21,
   "id": "3a63238f-34fe-4133-a211-201e25e5ab40",
   "metadata": {},
   "outputs": [
    {
     "data": {
      "text/plain": [
       "array([1000,    2,    3,    4,    5])"
      ]
     },
     "execution_count": 21,
     "metadata": {},
     "output_type": "execute_result"
    }
   ],
   "source": [
    "arr[0] = 1000\n",
    "arr"
   ]
  },
  {
   "cell_type": "code",
   "execution_count": 22,
   "id": "768a6edf-d4a5-4fbb-a994-3e673cb1f695",
   "metadata": {},
   "outputs": [
    {
     "data": {
      "text/plain": [
       "array([1000,    2,    3,    4,    5])"
      ]
     },
     "execution_count": 22,
     "metadata": {},
     "output_type": "execute_result"
    }
   ],
   "source": [
    "a"
   ]
  },
  {
   "cell_type": "code",
   "execution_count": 23,
   "id": "8e8e2993-0535-4924-b42c-1b72a94feab7",
   "metadata": {},
   "outputs": [
    {
     "name": "stdout",
     "output_type": "stream",
     "text": [
      "a : [2, 3, 4, 5]\n",
      "b : [2, 3, 4, 5]\n"
     ]
    }
   ],
   "source": [
    "# deep copy\n",
    "arr = [2,3,4,5]\n",
    "b = arr.copy()\n",
    "print(\"a :\",arr)\n",
    "print(\"b :\",b)"
   ]
  },
  {
   "cell_type": "code",
   "execution_count": 24,
   "id": "88916480-5c46-44d3-b2d3-c5b4e5ab4598",
   "metadata": {},
   "outputs": [
    {
     "name": "stdout",
     "output_type": "stream",
     "text": [
      "a : [1000, 3, 4, 5]\n",
      "b : [2, 3, 4, 5]\n"
     ]
    }
   ],
   "source": [
    "arr[0] = 1000\n",
    "print(\"a :\",arr)\n",
    "print(\"b :\",b)"
   ]
  },
  {
   "cell_type": "code",
   "execution_count": 25,
   "id": "58e7d1ba-5a20-4f78-8990-4a75d3749c25",
   "metadata": {},
   "outputs": [],
   "source": [
    "#to create array >> .array,.asarray,.asanyarray,\n",
    "# deep copy and shallow copy"
   ]
  },
  {
   "cell_type": "code",
   "execution_count": 26,
   "id": "18854006-db5c-4e74-be77-f300a62f67d4",
   "metadata": {},
   "outputs": [
    {
     "data": {
      "text/plain": [
       "array([[ True, False, False],\n",
       "       [False,  True, False],\n",
       "       [False, False,  True]])"
      ]
     },
     "execution_count": 26,
     "metadata": {},
     "output_type": "execute_result"
    }
   ],
   "source": [
    "#there are multiple ways to generating arrays\n",
    "np.fromfunction(lambda i,j: i==j,shape= (3,3)) ##Construct an array by executing a function over each coordinate.\n",
    "\n",
    "# The resulting array therefore has a value ``fn(x, y, z)`` at\n",
    "# coordinate ``(x, y, z)``.\n",
    "\n",
    "# Parameters\n",
    "# ----------\n",
    "# function : callable\n",
    "#     The function is called with N parameters, where N is the rank of\n",
    "#     `shape`.  Each parameter represents the coordinates of the array\n",
    "#     varying along a specific axis.  For example, if `shape`\n",
    "#     were ``(2, 2)``, then the parameters would be\n",
    "#     ``array([[0, 0], [1, 1]])`` and ``array([[0, 1], [0, 1]])``\n",
    "# shape : (N,) tuple of ints\n",
    "#     Shape of the output array, which also determines the shape of\n",
    "#     the coordinate arrays passed to `function`.\n",
    "# dtype : data-type, optional\n",
    "#     Data-type of the coordinate arrays passed to `function`.\n",
    "#     By default, `dtype` is float.\n",
    "# like : array_like, optional\n",
    "#     Reference object to allow the creation of arrays which are not\n",
    "#     NumPy arrays. If an array-like passed in as ``like`` supports\n",
    "#     the ``__array_function__`` protocol, the result will be defined\n",
    "#     by it. In this case, it ensures the creation of an array object\n",
    "#     compatible with that passed in via this argument.\n",
    "\n",
    "#     .. versionadded:: 1.20.0\n",
    "\n",
    "# Returns\n",
    "# -------\n",
    "# fromfunction : any\n",
    "#     The result of the call to `function` is passed back directly.\n",
    "#     Therefore the shape of `fromfunction` is completely determined by\n",
    "#     `function`.  If `function` returns a scalar value, the shape of\n",
    "#     `fromfunction` would not match the `shape` parameter.\n",
    "\n",
    "# See Also\n",
    "# --------\n",
    "# indices, meshgrid\n",
    "\n",
    "# Notes\n",
    "# -----\n",
    "# Keywords other than `dtype` are passed to `function`.\n",
    "\n",
    "# Examples\n",
    "# --------\n",
    "# >>> np.fromfunction(lambda i, j: i, (2, 2), dtype=float)\n",
    "# array([[0., 0.],\n",
    "#        [1., 1.]])\n",
    "       \n",
    "# >>> np.fromfunction(lambda i, j: j, (2, 2), dtype=float)    \n",
    "# array([[0., 1.],\n",
    "#        [0., 1.]])\n",
    "       \n",
    "# >>> np.fromfunction(lambda i, j: i == j, (3, 3), dtype=int)\n",
    "# array([[ True, False, False],\n",
    "#        [False,  True, False],\n",
    "#        [False, False,  True]])\n",
    "\n",
    "# >>> np.fromfunction(lambda i, j: i + j, (3, 3), dtype=int)\n",
    "# array([[0, 1, 2],\n",
    "#        [1, 2, 3],\n",
    "#        [2, 3, 4]])\n",
    "# File:      /opt/conda/lib/python3.10/site-packages/numpy/core/numeric.py\n",
    "# Type:      function"
   ]
  },
  {
   "cell_type": "code",
   "execution_count": 27,
   "id": "8da81751-3800-46c7-a647-82727bb263ba",
   "metadata": {},
   "outputs": [
    {
     "data": {
      "text/plain": [
       "array([[0., 0., 0.],\n",
       "       [0., 1., 2.],\n",
       "       [0., 2., 4.]])"
      ]
     },
     "execution_count": 27,
     "metadata": {},
     "output_type": "execute_result"
    }
   ],
   "source": [
    "np.fromfunction(lambda i,j: i*j,shape= (3,3))"
   ]
  },
  {
   "cell_type": "code",
   "execution_count": 28,
   "id": "f5894de3-19aa-49ef-aeef-7e1f501c79c1",
   "metadata": {},
   "outputs": [
    {
     "data": {
      "text/plain": [
       "range(0, 2)"
      ]
     },
     "execution_count": 28,
     "metadata": {},
     "output_type": "execute_result"
    }
   ],
   "source": [
    "range(2)"
   ]
  },
  {
   "cell_type": "code",
   "execution_count": 29,
   "id": "7d23630a-1d51-4264-a5ae-06ce54f05686",
   "metadata": {},
   "outputs": [],
   "source": [
    "iterater = (i*i for i in range(5))"
   ]
  },
  {
   "cell_type": "code",
   "execution_count": 30,
   "id": "082579de-8c40-4c79-a85a-cc466acae7ed",
   "metadata": {},
   "outputs": [
    {
     "data": {
      "text/plain": [
       "array([ 0,  1,  4,  9, 16])"
      ]
     },
     "execution_count": 30,
     "metadata": {},
     "output_type": "execute_result"
    }
   ],
   "source": [
    "# create np array using iterater\n",
    "np.fromiter(iterater,int)"
   ]
  },
  {
   "cell_type": "code",
   "execution_count": 31,
   "id": "f61bef74-e11c-437a-8e1c-53210ef13213",
   "metadata": {},
   "outputs": [
    {
     "data": {
      "text/plain": [
       "array([23,  4,  5,  6])"
      ]
     },
     "execution_count": 31,
     "metadata": {},
     "output_type": "execute_result"
    }
   ],
   "source": [
    "##Generate array from string\n",
    "np.fromstring('23 4 5 6',sep = ' ',dtype = int)"
   ]
  },
  {
   "cell_type": "code",
   "execution_count": 32,
   "id": "2000549c-d8a0-497d-a262-61b07ae87f06",
   "metadata": {},
   "outputs": [],
   "source": [
    "lit = [1,2,3,4,5,6]\n",
    "arr = np.array(lit)"
   ]
  },
  {
   "cell_type": "code",
   "execution_count": 33,
   "id": "1ef51df8-b7f0-4ffc-8216-1b96c3fb2cfd",
   "metadata": {},
   "outputs": [
    {
     "data": {
      "text/plain": [
       "array([1, 2, 3, 4, 5, 6])"
      ]
     },
     "execution_count": 33,
     "metadata": {},
     "output_type": "execute_result"
    }
   ],
   "source": [
    "arr"
   ]
  },
  {
   "cell_type": "code",
   "execution_count": 34,
   "id": "dd51b752-77e8-4843-9caf-fbe28fc367d0",
   "metadata": {},
   "outputs": [
    {
     "data": {
      "text/plain": [
       "6"
      ]
     },
     "execution_count": 34,
     "metadata": {},
     "output_type": "execute_result"
    }
   ],
   "source": [
    "arr.size"
   ]
  },
  {
   "cell_type": "code",
   "execution_count": 35,
   "id": "93daeca4-bc42-474b-b576-a1cfbd260938",
   "metadata": {},
   "outputs": [
    {
     "data": {
      "text/plain": [
       "(6,)"
      ]
     },
     "execution_count": 35,
     "metadata": {},
     "output_type": "execute_result"
    }
   ],
   "source": [
    "arr.shape"
   ]
  },
  {
   "cell_type": "code",
   "execution_count": 36,
   "id": "8b9b5b27-8fd0-438d-8e7d-5d783e928475",
   "metadata": {},
   "outputs": [
    {
     "data": {
      "text/plain": [
       "dtype('int64')"
      ]
     },
     "execution_count": 36,
     "metadata": {},
     "output_type": "execute_result"
    }
   ],
   "source": [
    "arr.dtype"
   ]
  },
  {
   "cell_type": "code",
   "execution_count": 37,
   "id": "7c335dd0-0a33-4e5d-a113-cbb50fe24dd8",
   "metadata": {},
   "outputs": [
    {
     "data": {
      "text/plain": [
       "[0, 1, 2]"
      ]
     },
     "execution_count": 37,
     "metadata": {},
     "output_type": "execute_result"
    }
   ],
   "source": [
    "list(range(3))"
   ]
  },
  {
   "cell_type": "code",
   "execution_count": 38,
   "id": "9e4b24cb-1523-482b-9ee7-e2baac91b1d2",
   "metadata": {},
   "outputs": [
    {
     "ename": "TypeError",
     "evalue": "'float' object cannot be interpreted as an integer",
     "output_type": "error",
     "traceback": [
      "\u001b[0;31m---------------------------------------------------------------------------\u001b[0m",
      "\u001b[0;31mTypeError\u001b[0m                                 Traceback (most recent call last)",
      "Cell \u001b[0;32mIn[38], line 1\u001b[0m\n\u001b[0;32m----> 1\u001b[0m \u001b[38;5;28mlist\u001b[39m(\u001b[38;5;28;43mrange\u001b[39;49m\u001b[43m(\u001b[49m\u001b[38;5;241;43m1.5\u001b[39;49m\u001b[43m,\u001b[49m\u001b[38;5;241;43m10.6\u001b[39;49m\u001b[43m)\u001b[49m) \u001b[38;5;66;03m##range can not deal with float value\u001b[39;00m\n",
      "\u001b[0;31mTypeError\u001b[0m: 'float' object cannot be interpreted as an integer"
     ]
    }
   ],
   "source": [
    "list(range(1.5,10.6)) ##range can not deal with float value"
   ]
  },
  {
   "cell_type": "code",
   "execution_count": 39,
   "id": "f90c1ca0-e50c-45bb-9dd4-b798b5aec15e",
   "metadata": {},
   "outputs": [
    {
     "data": {
      "text/plain": [
       "array([ 0.1,  0.3,  0.5,  0.7,  0.9,  1.1,  1.3,  1.5,  1.7,  1.9,  2.1,\n",
       "        2.3,  2.5,  2.7,  2.9,  3.1,  3.3,  3.5,  3.7,  3.9,  4.1,  4.3,\n",
       "        4.5,  4.7,  4.9,  5.1,  5.3,  5.5,  5.7,  5.9,  6.1,  6.3,  6.5,\n",
       "        6.7,  6.9,  7.1,  7.3,  7.5,  7.7,  7.9,  8.1,  8.3,  8.5,  8.7,\n",
       "        8.9,  9.1,  9.3,  9.5,  9.7,  9.9, 10.1, 10.3])"
      ]
     },
     "execution_count": 39,
     "metadata": {},
     "output_type": "execute_result"
    }
   ],
   "source": [
    "np.arange(0.1,10.5,0.2)"
   ]
  },
  {
   "cell_type": "code",
   "execution_count": 40,
   "id": "57927720-f4f8-4f1c-9358-b4c342b18a8a",
   "metadata": {},
   "outputs": [
    {
     "data": {
      "text/plain": [
       "[0.1,\n",
       " 0.30000000000000004,\n",
       " 0.5000000000000001,\n",
       " 0.7000000000000001,\n",
       " 0.9000000000000001,\n",
       " 1.1000000000000003,\n",
       " 1.3000000000000003,\n",
       " 1.5000000000000004,\n",
       " 1.7000000000000004,\n",
       " 1.9000000000000004,\n",
       " 2.1000000000000005,\n",
       " 2.3000000000000007,\n",
       " 2.5000000000000004,\n",
       " 2.7000000000000006,\n",
       " 2.900000000000001,\n",
       " 3.1000000000000005,\n",
       " 3.3000000000000007,\n",
       " 3.500000000000001,\n",
       " 3.7000000000000006,\n",
       " 3.900000000000001,\n",
       " 4.1000000000000005,\n",
       " 4.300000000000001,\n",
       " 4.500000000000001,\n",
       " 4.7,\n",
       " 4.9,\n",
       " 5.1000000000000005,\n",
       " 5.300000000000001,\n",
       " 5.500000000000001,\n",
       " 5.700000000000001,\n",
       " 5.9,\n",
       " 6.1000000000000005,\n",
       " 6.300000000000001,\n",
       " 6.500000000000001,\n",
       " 6.700000000000001,\n",
       " 6.900000000000001,\n",
       " 7.100000000000001,\n",
       " 7.300000000000001,\n",
       " 7.500000000000001,\n",
       " 7.700000000000001,\n",
       " 7.900000000000001,\n",
       " 8.100000000000001,\n",
       " 8.3,\n",
       " 8.500000000000002,\n",
       " 8.700000000000001,\n",
       " 8.900000000000002,\n",
       " 9.100000000000001,\n",
       " 9.3,\n",
       " 9.500000000000002,\n",
       " 9.700000000000001,\n",
       " 9.900000000000002,\n",
       " 10.100000000000001,\n",
       " 10.300000000000002]"
      ]
     },
     "execution_count": 40,
     "metadata": {},
     "output_type": "execute_result"
    }
   ],
   "source": [
    "list(np.arange(0.1,10.5,0.2))"
   ]
  },
  {
   "cell_type": "code",
   "execution_count": 41,
   "id": "de6c8237-961d-4990-a7cf-ae86b80870e5",
   "metadata": {},
   "outputs": [
    {
     "data": {
      "text/plain": [
       "array([1.        , 1.09090909, 1.18181818, 1.27272727, 1.36363636,\n",
       "       1.45454545, 1.54545455, 1.63636364, 1.72727273, 1.81818182,\n",
       "       1.90909091, 2.        , 2.09090909, 2.18181818, 2.27272727,\n",
       "       2.36363636, 2.45454545, 2.54545455, 2.63636364, 2.72727273,\n",
       "       2.81818182, 2.90909091, 3.        , 3.09090909, 3.18181818,\n",
       "       3.27272727, 3.36363636, 3.45454545, 3.54545455, 3.63636364,\n",
       "       3.72727273, 3.81818182, 3.90909091, 4.        , 4.09090909,\n",
       "       4.18181818, 4.27272727, 4.36363636, 4.45454545, 4.54545455,\n",
       "       4.63636364, 4.72727273, 4.81818182, 4.90909091, 5.        ])"
      ]
     },
     "execution_count": 41,
     "metadata": {},
     "output_type": "execute_result"
    }
   ],
   "source": [
    "np.linspace(1,5,45)"
   ]
  },
  {
   "cell_type": "code",
   "execution_count": 42,
   "id": "aa61c830-a305-4145-a67e-7f1cb13b1d88",
   "metadata": {},
   "outputs": [
    {
     "data": {
      "text/plain": [
       "array([ 4.        ,  4.46263167,  4.97877036,  5.55460457,  6.19703857,\n",
       "        6.91377515,  7.71340798,  8.60552469,  9.60082176, 10.71123281,\n",
       "       11.95007169, 13.3321921 , 14.87416568, 16.59448071, 18.5137638 ,\n",
       "       20.65502717, 23.0439446 , 25.70915925, 28.68262708, 32.        ])"
      ]
     },
     "execution_count": 42,
     "metadata": {},
     "output_type": "execute_result"
    }
   ],
   "source": [
    "np.logspace(start=2,stop=5,base= 2,num=20)"
   ]
  },
  {
   "cell_type": "code",
   "execution_count": 43,
   "id": "e0ab758a-0db7-41b5-86d3-8d7499e50a23",
   "metadata": {},
   "outputs": [],
   "source": [
    "arr1 = np.zeros(5)"
   ]
  },
  {
   "cell_type": "code",
   "execution_count": 44,
   "id": "1ee12b48-d244-4cc9-9b9f-586832e0df23",
   "metadata": {},
   "outputs": [
    {
     "data": {
      "text/plain": [
       "(3, 4)"
      ]
     },
     "execution_count": 44,
     "metadata": {},
     "output_type": "execute_result"
    }
   ],
   "source": [
    "arr2 = np.zeros((3,4),int)\n",
    "arr2.shape"
   ]
  },
  {
   "cell_type": "code",
   "execution_count": 45,
   "id": "60d95f96-23c6-4758-bc41-2ecd1fc08762",
   "metadata": {},
   "outputs": [
    {
     "data": {
      "text/plain": [
       "array([[0, 0, 0, 0],\n",
       "       [0, 0, 0, 0],\n",
       "       [0, 0, 0, 0]])"
      ]
     },
     "execution_count": 45,
     "metadata": {},
     "output_type": "execute_result"
    }
   ],
   "source": [
    "arr2"
   ]
  },
  {
   "cell_type": "code",
   "execution_count": 46,
   "id": "fc35cff7-e292-422c-ab8f-281d2dab008f",
   "metadata": {},
   "outputs": [
    {
     "data": {
      "text/plain": [
       "(3, 3, 4)"
      ]
     },
     "execution_count": 46,
     "metadata": {},
     "output_type": "execute_result"
    }
   ],
   "source": [
    "arr3 = np.zeros((3,3,4),int)\n",
    "arr3.shape"
   ]
  },
  {
   "cell_type": "code",
   "execution_count": 47,
   "id": "8c26bfd6-10df-457e-bf15-756b87078f02",
   "metadata": {},
   "outputs": [
    {
     "data": {
      "text/plain": [
       "array([[[0, 0, 0, 0],\n",
       "        [0, 0, 0, 0],\n",
       "        [0, 0, 0, 0]],\n",
       "\n",
       "       [[0, 0, 0, 0],\n",
       "        [0, 0, 0, 0],\n",
       "        [0, 0, 0, 0]],\n",
       "\n",
       "       [[0, 0, 0, 0],\n",
       "        [0, 0, 0, 0],\n",
       "        [0, 0, 0, 0]]])"
      ]
     },
     "execution_count": 47,
     "metadata": {},
     "output_type": "execute_result"
    }
   ],
   "source": [
    "arr3"
   ]
  },
  {
   "cell_type": "code",
   "execution_count": 48,
   "id": "762a1388-2776-47b3-ae00-58330b1434ed",
   "metadata": {},
   "outputs": [
    {
     "data": {
      "text/plain": [
       "3"
      ]
     },
     "execution_count": 48,
     "metadata": {},
     "output_type": "execute_result"
    }
   ],
   "source": [
    "arr3.ndim"
   ]
  },
  {
   "cell_type": "code",
   "execution_count": 49,
   "id": "1a1274bf-4b08-45a7-9daa-21e985d4b070",
   "metadata": {},
   "outputs": [],
   "source": [
    "arr = np.ones((3,2,3),int)"
   ]
  },
  {
   "cell_type": "code",
   "execution_count": 50,
   "id": "7d61cfd8-9209-4801-8f95-a22212b5016c",
   "metadata": {},
   "outputs": [
    {
     "data": {
      "text/plain": [
       "array([[[1, 1, 1],\n",
       "        [1, 1, 1]],\n",
       "\n",
       "       [[1, 1, 1],\n",
       "        [1, 1, 1]],\n",
       "\n",
       "       [[1, 1, 1],\n",
       "        [1, 1, 1]]])"
      ]
     },
     "execution_count": 50,
     "metadata": {},
     "output_type": "execute_result"
    }
   ],
   "source": [
    "arr"
   ]
  },
  {
   "cell_type": "code",
   "execution_count": 51,
   "id": "9e37e66e-be5d-4b04-879f-e7f6f0ac7118",
   "metadata": {},
   "outputs": [
    {
     "data": {
      "text/plain": [
       "array([[[6, 6, 6],\n",
       "        [6, 6, 6]],\n",
       "\n",
       "       [[6, 6, 6],\n",
       "        [6, 6, 6]],\n",
       "\n",
       "       [[6, 6, 6],\n",
       "        [6, 6, 6]]])"
      ]
     },
     "execution_count": 51,
     "metadata": {},
     "output_type": "execute_result"
    }
   ],
   "source": [
    "arr+5"
   ]
  },
  {
   "cell_type": "code",
   "execution_count": 52,
   "id": "a5d19a45-4d33-4b4c-91d8-f967b17d3195",
   "metadata": {},
   "outputs": [],
   "source": [
    "arr = np.ones((3,4),int)"
   ]
  },
  {
   "cell_type": "code",
   "execution_count": 53,
   "id": "e8fe06a9-2604-4e5b-bfb5-b40ab8ca3c67",
   "metadata": {},
   "outputs": [
    {
     "data": {
      "text/plain": [
       "array([[1, 1, 1, 1],\n",
       "       [1, 1, 1, 1],\n",
       "       [1, 1, 1, 1]])"
      ]
     },
     "execution_count": 53,
     "metadata": {},
     "output_type": "execute_result"
    }
   ],
   "source": [
    "arr"
   ]
  },
  {
   "cell_type": "code",
   "execution_count": 54,
   "id": "552beeca-cd4e-4b20-8c3f-bf02988a07fc",
   "metadata": {},
   "outputs": [
    {
     "data": {
      "text/plain": [
       "array([[2, 2, 2, 2],\n",
       "       [2, 2, 2, 2],\n",
       "       [2, 2, 2, 2]])"
      ]
     },
     "execution_count": 54,
     "metadata": {},
     "output_type": "execute_result"
    }
   ],
   "source": [
    "arr+1"
   ]
  },
  {
   "cell_type": "code",
   "execution_count": 55,
   "id": "4a292611-91df-4b95-998a-418d0494e3b8",
   "metadata": {},
   "outputs": [
    {
     "data": {
      "text/plain": [
       "array([[5, 5, 5, 5],\n",
       "       [5, 5, 5, 5],\n",
       "       [5, 5, 5, 5]])"
      ]
     },
     "execution_count": 55,
     "metadata": {},
     "output_type": "execute_result"
    }
   ],
   "source": [
    "arr*5"
   ]
  },
  {
   "cell_type": "code",
   "execution_count": 56,
   "id": "a787d967-d2f2-4acf-a717-25a140aa5ded",
   "metadata": {},
   "outputs": [
    {
     "data": {
      "text/plain": [
       "array([[     94420658525522,                   0,                   0,\n",
       "                          0],\n",
       "       [       240518168576, 4122824891620680804, 7219614595506649185,\n",
       "        3761684590288646706],\n",
       "       [4050482300833850672, 7234532945332429363, 3474021544973854307,\n",
       "        3703429170025673061]])"
      ]
     },
     "execution_count": 56,
     "metadata": {},
     "output_type": "execute_result"
    }
   ],
   "source": [
    "np.empty((3,4),int) ##it gives some random value of shape is which you pass in this function"
   ]
  },
  {
   "cell_type": "code",
   "execution_count": 57,
   "id": "2b479a68-ec75-4303-bb69-23386a614955",
   "metadata": {},
   "outputs": [
    {
     "data": {
      "text/plain": [
       "array([[1, 0, 0, 0],\n",
       "       [0, 1, 0, 0],\n",
       "       [0, 0, 1, 0],\n",
       "       [0, 0, 0, 1]])"
      ]
     },
     "execution_count": 57,
     "metadata": {},
     "output_type": "execute_result"
    }
   ],
   "source": [
    "np.eye(4,dtype=int) ##it is actually gives a digonal square matrix\n",
    "##Provides\n",
    "  # 1. An array object of arbitrary homogeneous items\n",
    "  # 2. Fast mathematical operations over arrays\n",
    "  # 3. Linear Algebra, Fourier Transforms, Random Number Generation"
   ]
  },
  {
   "cell_type": "code",
   "execution_count": 58,
   "id": "11b1a39d-01f9-44e1-8e72-2600c4bba7bc",
   "metadata": {},
   "outputs": [
    {
     "data": {
      "text/html": [
       "<div>\n",
       "<style scoped>\n",
       "    .dataframe tbody tr th:only-of-type {\n",
       "        vertical-align: middle;\n",
       "    }\n",
       "\n",
       "    .dataframe tbody tr th {\n",
       "        vertical-align: top;\n",
       "    }\n",
       "\n",
       "    .dataframe thead th {\n",
       "        text-align: right;\n",
       "    }\n",
       "</style>\n",
       "<table border=\"1\" class=\"dataframe\">\n",
       "  <thead>\n",
       "    <tr style=\"text-align: right;\">\n",
       "      <th></th>\n",
       "      <th>0</th>\n",
       "      <th>1</th>\n",
       "      <th>2</th>\n",
       "      <th>3</th>\n",
       "    </tr>\n",
       "  </thead>\n",
       "  <tbody>\n",
       "    <tr>\n",
       "      <th>0</th>\n",
       "      <td>1</td>\n",
       "      <td>1</td>\n",
       "      <td>1</td>\n",
       "      <td>1</td>\n",
       "    </tr>\n",
       "    <tr>\n",
       "      <th>1</th>\n",
       "      <td>1</td>\n",
       "      <td>1</td>\n",
       "      <td>1</td>\n",
       "      <td>1</td>\n",
       "    </tr>\n",
       "    <tr>\n",
       "      <th>2</th>\n",
       "      <td>1</td>\n",
       "      <td>1</td>\n",
       "      <td>1</td>\n",
       "      <td>1</td>\n",
       "    </tr>\n",
       "  </tbody>\n",
       "</table>\n",
       "</div>"
      ],
      "text/plain": [
       "   0  1  2  3\n",
       "0  1  1  1  1\n",
       "1  1  1  1  1\n",
       "2  1  1  1  1"
      ]
     },
     "execution_count": 58,
     "metadata": {},
     "output_type": "execute_result"
    }
   ],
   "source": [
    "##out of the syllabus topic\n",
    "import pandas as pd\n",
    "df = pd.DataFrame(arr)\n",
    "df"
   ]
  },
  {
   "cell_type": "code",
   "execution_count": 59,
   "id": "439940ac-f0df-4ff6-910c-c6546c73d721",
   "metadata": {},
   "outputs": [],
   "source": [
    "##xtra Topic\n",
    "import random"
   ]
  },
  {
   "cell_type": "code",
   "execution_count": null,
   "id": "8f3c7fea-0ffa-43cc-ac3d-6d3cfd3fd5e9",
   "metadata": {},
   "outputs": [],
   "source": []
  },
  {
   "cell_type": "raw",
   "id": "bae56ecd-8828-423c-8775-f0748a867ceb",
   "metadata": {},
   "source": [
    "random.choice((1,2,3,4,5,6))"
   ]
  },
  {
   "cell_type": "code",
   "execution_count": 60,
   "id": "ee10f3b0-7465-4b99-8782-8fb2ca0a338a",
   "metadata": {},
   "outputs": [
    {
     "data": {
      "text/plain": [
       "'h'"
      ]
     },
     "execution_count": 60,
     "metadata": {},
     "output_type": "execute_result"
    }
   ],
   "source": [
    "random.choice(\"rahul\")"
   ]
  },
  {
   "cell_type": "code",
   "execution_count": 61,
   "id": "9d681c69-7e9d-4d1f-9bf8-36ce6472f2a6",
   "metadata": {},
   "outputs": [
    {
     "data": {
      "text/plain": [
       "852"
      ]
     },
     "execution_count": 61,
     "metadata": {},
     "output_type": "execute_result"
    }
   ],
   "source": [
    "random.randrange(1,10000)"
   ]
  },
  {
   "cell_type": "code",
   "execution_count": 62,
   "id": "d575dd36-2575-4ba9-ac43-d093b4af5e14",
   "metadata": {},
   "outputs": [
    {
     "data": {
      "text/plain": [
       "0.9155018294973409"
      ]
     },
     "execution_count": 62,
     "metadata": {},
     "output_type": "execute_result"
    }
   ],
   "source": [
    "random.random() ##random no. is generated between (0 and 1) where 0 will be included and 1 will be excluded"
   ]
  },
  {
   "cell_type": "code",
   "execution_count": 63,
   "id": "ff8d8026-60da-4918-af2b-05e7b4ce1180",
   "metadata": {},
   "outputs": [
    {
     "data": {
      "text/plain": [
       "[4, 1, 5, 3, 2, 6]"
      ]
     },
     "execution_count": 63,
     "metadata": {},
     "output_type": "execute_result"
    }
   ],
   "source": [
    "ls = [1,2,3,4,5,6]\n",
    "random.shuffle(ls)\n",
    "ls"
   ]
  },
  {
   "cell_type": "code",
   "execution_count": 64,
   "id": "1d005bb2-9422-4746-9730-2d83b1c8e18b",
   "metadata": {},
   "outputs": [
    {
     "data": {
      "text/plain": [
       "12.397799129761548"
      ]
     },
     "execution_count": 64,
     "metadata": {},
     "output_type": "execute_result"
    }
   ],
   "source": [
    "random.uniform(7,14) ##a no. between 7 and 14 which have equal probability"
   ]
  },
  {
   "cell_type": "markdown",
   "id": "8bff0165-d004-4cf6-8f61-f7c174164d16",
   "metadata": {},
   "source": [
    "##this same thing we can do using numpy library"
   ]
  },
  {
   "cell_type": "code",
   "execution_count": 65,
   "id": "854f894a-fff5-40ef-9aa8-c9787f927d00",
   "metadata": {},
   "outputs": [
    {
     "data": {
      "text/plain": [
       "array([0.61763022, 0.08144599])"
      ]
     },
     "execution_count": 65,
     "metadata": {},
     "output_type": "execute_result"
    }
   ],
   "source": [
    "np.random.rand(2)"
   ]
  },
  {
   "cell_type": "code",
   "execution_count": 66,
   "id": "291b8f5f-f699-4276-abe6-a799cd550918",
   "metadata": {},
   "outputs": [
    {
     "data": {
      "text/plain": [
       "array([[0.06888959, 0.43476797, 0.20453569, 0.67583063],\n",
       "       [0.79199951, 0.98840671, 0.31646868, 0.59240694]])"
      ]
     },
     "execution_count": 66,
     "metadata": {},
     "output_type": "execute_result"
    }
   ],
   "source": [
    "np.random.rand(2,4)"
   ]
  },
  {
   "cell_type": "code",
   "execution_count": 67,
   "id": "47a7fd3b-72a8-42e4-be0b-9616509c21c4",
   "metadata": {},
   "outputs": [
    {
     "data": {
      "text/plain": [
       "array([[ 1.95713177,  0.32207383,  0.00407542],\n",
       "       [-0.10440129, -0.30958972, -0.36816499]])"
      ]
     },
     "execution_count": 67,
     "metadata": {},
     "output_type": "execute_result"
    }
   ],
   "source": [
    "np.random.randn(2,3) ##it is used  for create a graph for normal distribution or bell shaped curved"
   ]
  },
  {
   "cell_type": "code",
   "execution_count": 68,
   "id": "a1fd2dc0-f4ba-44c2-8196-8316f6e4ece9",
   "metadata": {},
   "outputs": [
    {
     "data": {
      "text/plain": [
       "0.01942773659803365"
      ]
     },
     "execution_count": 68,
     "metadata": {},
     "output_type": "execute_result"
    }
   ],
   "source": [
    "np.random.random_sample()"
   ]
  },
  {
   "cell_type": "code",
   "execution_count": 69,
   "id": "7d36d190-e4f1-4568-b0aa-26e8249fb049",
   "metadata": {},
   "outputs": [],
   "source": [
    "# [0,1) it is half bracket in which 0 will be included and 1 will be xcluded"
   ]
  },
  {
   "cell_type": "code",
   "execution_count": 70,
   "id": "69e36a9d-8981-49ac-ad02-1ebc4a60a80e",
   "metadata": {},
   "outputs": [
    {
     "data": {
      "text/plain": [
       "array([[ 7,  9, 57, 38],\n",
       "       [34, 70, 23, 36],\n",
       "       [67, 34, 37, 38]])"
      ]
     },
     "execution_count": 70,
     "metadata": {},
     "output_type": "execute_result"
    }
   ],
   "source": [
    "np.random.randint(1,76,size = (3,4))"
   ]
  },
  {
   "cell_type": "code",
   "execution_count": 71,
   "id": "ce32c521-2ba5-4742-b1c0-8f8049d10cc8",
   "metadata": {},
   "outputs": [],
   "source": [
    "arr = np.random.randint(1,76,size = (3,4))"
   ]
  },
  {
   "cell_type": "code",
   "execution_count": 72,
   "id": "74e82974-2302-4c5f-8864-f0d728bc6950",
   "metadata": {},
   "outputs": [
    {
     "data": {
      "text/plain": [
       "array([[54, 27, 48, 68],\n",
       "       [67, 63, 59, 72],\n",
       "       [57, 61, 58, 63]])"
      ]
     },
     "execution_count": 72,
     "metadata": {},
     "output_type": "execute_result"
    }
   ],
   "source": [
    "arr"
   ]
  },
  {
   "cell_type": "code",
   "execution_count": 73,
   "id": "bac80a46-5945-4d39-82a9-7e5eb7ed5cac",
   "metadata": {},
   "outputs": [
    {
     "data": {
      "text/plain": [
       "12"
      ]
     },
     "execution_count": 73,
     "metadata": {},
     "output_type": "execute_result"
    }
   ],
   "source": [
    "arr.size"
   ]
  },
  {
   "cell_type": "code",
   "execution_count": 74,
   "id": "416bb304-f280-444a-9c7d-aac70e047805",
   "metadata": {},
   "outputs": [
    {
     "data": {
      "text/plain": [
       "(3, 4)"
      ]
     },
     "execution_count": 74,
     "metadata": {},
     "output_type": "execute_result"
    }
   ],
   "source": [
    "arr.shape"
   ]
  },
  {
   "cell_type": "code",
   "execution_count": 75,
   "id": "30befc9c-7690-41e7-bbc4-2fe2c09da9fa",
   "metadata": {},
   "outputs": [
    {
     "data": {
      "text/plain": [
       "2"
      ]
     },
     "execution_count": 75,
     "metadata": {},
     "output_type": "execute_result"
    }
   ],
   "source": [
    "arr.ndim"
   ]
  },
  {
   "cell_type": "code",
   "execution_count": 76,
   "id": "68d1682f-9e14-4f56-b1f7-6766a2da8492",
   "metadata": {},
   "outputs": [
    {
     "data": {
      "text/plain": [
       "array([[54, 27, 48],\n",
       "       [68, 67, 63],\n",
       "       [59, 72, 57],\n",
       "       [61, 58, 63]])"
      ]
     },
     "execution_count": 76,
     "metadata": {},
     "output_type": "execute_result"
    }
   ],
   "source": [
    "arr.reshape((4,3))"
   ]
  },
  {
   "cell_type": "code",
   "execution_count": 77,
   "id": "852ae2a9-7547-41bc-a28e-d975dd60e32c",
   "metadata": {},
   "outputs": [
    {
     "data": {
      "text/plain": [
       "array([[54, 27, 48],\n",
       "       [68, 67, 63],\n",
       "       [59, 72, 57],\n",
       "       [61, 58, 63]])"
      ]
     },
     "execution_count": 77,
     "metadata": {},
     "output_type": "execute_result"
    }
   ],
   "source": [
    "arr.reshape(4,-1) ##when we want 4 rows but we dont know how many columns we want so we -1 in this situation and numpy take of this situation"
   ]
  },
  {
   "cell_type": "code",
   "execution_count": 78,
   "id": "9c631b46-728e-4524-a091-531d9f2e813b",
   "metadata": {},
   "outputs": [
    {
     "data": {
      "text/plain": [
       "array([[54, 27, 48],\n",
       "       [68, 67, 63],\n",
       "       [59, 72, 57],\n",
       "       [61, 58, 63]])"
      ]
     },
     "execution_count": 78,
     "metadata": {},
     "output_type": "execute_result"
    }
   ],
   "source": [
    "arr.reshape(4,-100000) # Note:- when we pass any neagative value numpy assume -1 and no changes occure in the result"
   ]
  },
  {
   "cell_type": "code",
   "execution_count": 79,
   "id": "c4c3f504-d738-4f77-a9b5-5b28e18c08be",
   "metadata": {},
   "outputs": [
    {
     "data": {
      "text/plain": [
       "array([[54, 27, 48],\n",
       "       [68, 67, 63],\n",
       "       [59, 72, 57],\n",
       "       [61, 58, 63]])"
      ]
     },
     "execution_count": 79,
     "metadata": {},
     "output_type": "execute_result"
    }
   ],
   "source": [
    "arr.reshape(-1,3)##when we want 4 cols but we dont know how many rows we want so we -1 in this situation and numpy take of this situation"
   ]
  },
  {
   "cell_type": "code",
   "execution_count": 80,
   "id": "9ee70af0-6a34-403a-a0a5-9014392b5c4b",
   "metadata": {},
   "outputs": [],
   "source": [
    "# arr.reshape(-1,-1) #ValueError: can only specify one unknown dimension"
   ]
  },
  {
   "cell_type": "code",
   "execution_count": 84,
   "id": "d0ae3336-50bb-45e3-b0bc-fc23398bdefb",
   "metadata": {},
   "outputs": [
    {
     "data": {
      "text/plain": [
       "array([[54, 27, 48, 68],\n",
       "       [67, 63, 59, 72],\n",
       "       [57, 61, 58, 63]])"
      ]
     },
     "execution_count": 84,
     "metadata": {},
     "output_type": "execute_result"
    }
   ],
   "source": [
    "arr.reshape(12,1).base #this .base give the original function "
   ]
  },
  {
   "cell_type": "code",
   "execution_count": 83,
   "id": "da86ced2-8f6c-4dc7-a408-9eee3706471b",
   "metadata": {},
   "outputs": [
    {
     "data": {
      "text/plain": [
       "array([[54, 27, 48, 68],\n",
       "       [67, 63, 59, 72],\n",
       "       [57, 61, 58, 63]])"
      ]
     },
     "execution_count": 83,
     "metadata": {},
     "output_type": "execute_result"
    }
   ],
   "source": [
    "arr.reshape(2,2,3).base #this .base give the original function "
   ]
  },
  {
   "cell_type": "code",
   "execution_count": 85,
   "id": "ea8378aa-8245-4015-a3e6-8c3c93fe2624",
   "metadata": {},
   "outputs": [
    {
     "data": {
      "text/plain": [
       "array([[[54, 27, 48],\n",
       "        [68, 67, 63]],\n",
       "\n",
       "       [[59, 72, 57],\n",
       "        [61, 58, 63]]])"
      ]
     },
     "execution_count": 85,
     "metadata": {},
     "output_type": "execute_result"
    }
   ],
   "source": [
    "arr.reshape(2,2,3)"
   ]
  },
  {
   "cell_type": "code",
   "execution_count": 86,
   "id": "c34aa9a3-1c00-4cd8-8416-8c3ca7c75af7",
   "metadata": {},
   "outputs": [
    {
     "data": {
      "text/plain": [
       "array([[[[[[[[[54, 27, 48],\n",
       "              [68, 67, 63]],\n",
       "\n",
       "             [[59, 72, 57],\n",
       "              [61, 58, 63]]]]]]]]])"
      ]
     },
     "execution_count": 86,
     "metadata": {},
     "output_type": "execute_result"
    }
   ],
   "source": [
    "##create multiple dimmention\n",
    "arr.reshape(1,1,1,1,1,1,2,2,3)"
   ]
  },
  {
   "cell_type": "code",
   "execution_count": 93,
   "id": "a405d72a-1a35-4ba0-8199-42f9863df51f",
   "metadata": {},
   "outputs": [
    {
     "data": {
      "text/plain": [
       "array([[[0, 0, 0, 0],\n",
       "        [0, 0, 0, 0],\n",
       "        [0, 0, 0, 0]]])"
      ]
     },
     "execution_count": 93,
     "metadata": {},
     "output_type": "execute_result"
    }
   ],
   "source": [
    "arr2 = np.zeros((1,3,4),int) ##3 rows ,2 colms with 2d + 1d extra dimention\n",
    "arr2"
   ]
  },
  {
   "cell_type": "code",
   "execution_count": 16,
   "id": "feb92b64-ebd8-4b17-90b8-89624baf0120",
   "metadata": {},
   "outputs": [
    {
     "data": {
      "text/plain": [
       "array([[3, 3, 7, 5, 3, 3],\n",
       "       [5, 9, 5, 8, 3, 6],\n",
       "       [5, 4, 6, 8, 9, 3],\n",
       "       [4, 2, 6, 8, 8, 4],\n",
       "       [9, 5, 3, 8, 9, 4]])"
      ]
     },
     "execution_count": 16,
     "metadata": {},
     "output_type": "execute_result"
    }
   ],
   "source": [
    "arr1 = np.random.randint(1,10,(5,6))\n",
    "arr1"
   ]
  },
  {
   "cell_type": "code",
   "execution_count": 17,
   "id": "8d8f7405-eba7-4be0-acab-38fb0425e35a",
   "metadata": {},
   "outputs": [
    {
     "data": {
      "text/plain": [
       "array([[False, False,  True, False, False, False],\n",
       "       [False,  True, False,  True, False,  True],\n",
       "       [False, False,  True,  True,  True, False],\n",
       "       [False, False,  True,  True,  True, False],\n",
       "       [ True, False, False,  True,  True, False]])"
      ]
     },
     "execution_count": 17,
     "metadata": {},
     "output_type": "execute_result"
    }
   ],
   "source": [
    "arr1 > 5 "
   ]
  },
  {
   "cell_type": "code",
   "execution_count": 18,
   "id": "f538730d-aa08-41e4-b8f4-c6478efa9ad7",
   "metadata": {},
   "outputs": [
    {
     "data": {
      "text/plain": [
       "array([7, 9, 8, 6, 6, 8, 9, 6, 8, 8, 9, 8, 9])"
      ]
     },
     "execution_count": 18,
     "metadata": {},
     "output_type": "execute_result"
    }
   ],
   "source": [
    "arr1[arr1 > 5 ] ##give me all the values where condition is true"
   ]
  },
  {
   "cell_type": "code",
   "execution_count": 19,
   "id": "a03e6469-8255-410b-883a-f30cca72703b",
   "metadata": {},
   "outputs": [
    {
     "data": {
      "text/plain": [
       "array([3, 3, 3, 3, 3, 4, 3, 4, 2, 4, 3, 4])"
      ]
     },
     "execution_count": 19,
     "metadata": {},
     "output_type": "execute_result"
    }
   ],
   "source": [
    "arr1[arr1 <5]"
   ]
  },
  {
   "cell_type": "code",
   "execution_count": 21,
   "id": "fe758441-772e-492d-9982-06633af3d71d",
   "metadata": {},
   "outputs": [
    {
     "data": {
      "text/plain": [
       "array([3, 7, 5])"
      ]
     },
     "execution_count": 21,
     "metadata": {},
     "output_type": "execute_result"
    }
   ],
   "source": [
    "arr1[0][1:4]"
   ]
  },
  {
   "cell_type": "code",
   "execution_count": 25,
   "id": "a97ae532-7cc2-42b6-bb5a-c753aa16bdbf",
   "metadata": {},
   "outputs": [
    {
     "data": {
      "text/plain": [
       "array([3, 5])"
      ]
     },
     "execution_count": 25,
     "metadata": {},
     "output_type": "execute_result"
    }
   ],
   "source": [
    "##Another Method\n",
    "arr1[0,[1,3]]"
   ]
  },
  {
   "cell_type": "code",
   "execution_count": 27,
   "id": "c4ab7d5d-1bb9-4ae4-9f51-e2523d95dee6",
   "metadata": {},
   "outputs": [
    {
     "data": {
      "text/plain": [
       "array([[6, 8],\n",
       "       [6, 8]])"
      ]
     },
     "execution_count": 27,
     "metadata": {},
     "output_type": "execute_result"
    }
   ],
   "source": [
    "arr1[2:4,[2,3]]"
   ]
  },
  {
   "cell_type": "code",
   "execution_count": 28,
   "id": "d9e145cb-0ed0-4eaf-92a3-11032d746cab",
   "metadata": {},
   "outputs": [
    {
     "data": {
      "text/plain": [
       "array([[5, 4],\n",
       "       [4, 2],\n",
       "       [9, 5]])"
      ]
     },
     "execution_count": 28,
     "metadata": {},
     "output_type": "execute_result"
    }
   ],
   "source": [
    "arr1[2:5,0:2]"
   ]
  },
  {
   "cell_type": "code",
   "execution_count": 33,
   "id": "ec0f1dfb-5c4e-42cb-944c-a3e45e75f349",
   "metadata": {},
   "outputs": [
    {
     "data": {
      "text/plain": [
       "array([5, 6])"
      ]
     },
     "execution_count": 33,
     "metadata": {},
     "output_type": "execute_result"
    }
   ],
   "source": [
    "arr1[[2,3],[0,2]]"
   ]
  },
  {
   "cell_type": "code",
   "execution_count": 35,
   "id": "3cf6f64b-9b39-452e-aef7-265103c4082f",
   "metadata": {},
   "outputs": [
    {
     "data": {
      "text/plain": [
       "array([[2, 1, 1],\n",
       "       [2, 1, 2],\n",
       "       [1, 1, 1]])"
      ]
     },
     "execution_count": 35,
     "metadata": {},
     "output_type": "execute_result"
    }
   ],
   "source": [
    "arr1 = np.random.randint(1,3,(3,3))\n",
    "arr2 = np.random.randint(1,3,(3,3))\n",
    "arr1"
   ]
  },
  {
   "cell_type": "code",
   "execution_count": 36,
   "id": "d11a95a1-b443-4662-92bc-75c244a6875b",
   "metadata": {},
   "outputs": [
    {
     "data": {
      "text/plain": [
       "array([[1, 1, 1],\n",
       "       [2, 1, 1],\n",
       "       [1, 1, 1]])"
      ]
     },
     "execution_count": 36,
     "metadata": {},
     "output_type": "execute_result"
    }
   ],
   "source": [
    "arr2"
   ]
  },
  {
   "cell_type": "code",
   "execution_count": 37,
   "id": "05e0c12c-c5c4-4ff3-8de1-c889a6057fd8",
   "metadata": {},
   "outputs": [
    {
     "data": {
      "text/plain": [
       "array([[3, 2, 2],\n",
       "       [4, 2, 3],\n",
       "       [2, 2, 2]])"
      ]
     },
     "execution_count": 37,
     "metadata": {},
     "output_type": "execute_result"
    }
   ],
   "source": [
    "arr1+arr2"
   ]
  },
  {
   "cell_type": "code",
   "execution_count": 38,
   "id": "93e62ae7-d187-4ee0-811e-39bbbf0891c1",
   "metadata": {},
   "outputs": [
    {
     "data": {
      "text/plain": [
       "array([[1, 0, 0],\n",
       "       [0, 0, 1],\n",
       "       [0, 0, 0]])"
      ]
     },
     "execution_count": 38,
     "metadata": {},
     "output_type": "execute_result"
    }
   ],
   "source": [
    "arr1-arr2"
   ]
  },
  {
   "cell_type": "code",
   "execution_count": 39,
   "id": "2bd8d6fc-fac9-49ba-b573-faca637273fc",
   "metadata": {},
   "outputs": [
    {
     "data": {
      "text/plain": [
       "array([[2, 1, 1],\n",
       "       [4, 1, 2],\n",
       "       [1, 1, 1]])"
      ]
     },
     "execution_count": 39,
     "metadata": {},
     "output_type": "execute_result"
    }
   ],
   "source": [
    "arr1*arr2"
   ]
  },
  {
   "cell_type": "code",
   "execution_count": 42,
   "id": "f456c7f6-c84b-4e64-907d-21fdccbda811",
   "metadata": {},
   "outputs": [
    {
     "data": {
      "text/plain": [
       "array([[5, 4, 4],\n",
       "       [6, 5, 5],\n",
       "       [4, 3, 3]])"
      ]
     },
     "execution_count": 42,
     "metadata": {},
     "output_type": "execute_result"
    }
   ],
   "source": [
    "##Matrix multiplication\n",
    "arr1 @ arr2 ##DOT product"
   ]
  },
  {
   "cell_type": "code",
   "execution_count": 44,
   "id": "f52d01b8-8492-4951-bfb8-c7b9aabb672a",
   "metadata": {},
   "outputs": [
    {
     "name": "stderr",
     "output_type": "stream",
     "text": [
      "/tmp/ipykernel_98/2180708037.py:1: RuntimeWarning: divide by zero encountered in divide\n",
      "  arr1/0 ##when we divide an intger with 0 then it gives an error which is zero division error when element of an array divide by 0 it gives infinity (inf) it handles this zero division error\n"
     ]
    },
    {
     "data": {
      "text/plain": [
       "array([[inf, inf, inf],\n",
       "       [inf, inf, inf],\n",
       "       [inf, inf, inf]])"
      ]
     },
     "execution_count": 44,
     "metadata": {},
     "output_type": "execute_result"
    }
   ],
   "source": [
    "arr1/0 ##when we divide an intger with 0 then it gives an error which is zero division error when element of an array divide by 0 it gives infinity (inf) it handles this zero division error"
   ]
  },
  {
   "cell_type": "code",
   "execution_count": 49,
   "id": "c100b0cf-71c4-479c-9475-1e38ee7b18be",
   "metadata": {},
   "outputs": [],
   "source": [
    "##Broad casting:-Broad casting means you can adding ,subtracting,doinng something with each of the element and every element"
   ]
  },
  {
   "cell_type": "code",
   "execution_count": 47,
   "id": "cb86c210-2319-4541-a984-71246d2433f3",
   "metadata": {},
   "outputs": [],
   "source": [
    "arr = np.zeros((3,4),int)"
   ]
  },
  {
   "cell_type": "code",
   "execution_count": 50,
   "id": "cca0b89b-8d86-4d73-b198-230417c41879",
   "metadata": {},
   "outputs": [
    {
     "data": {
      "text/plain": [
       "array([[5, 5, 5, 5],\n",
       "       [5, 5, 5, 5],\n",
       "       [5, 5, 5, 5]])"
      ]
     },
     "execution_count": 50,
     "metadata": {},
     "output_type": "execute_result"
    }
   ],
   "source": [
    "arr + 5"
   ]
  },
  {
   "cell_type": "code",
   "execution_count": 51,
   "id": "554162eb-33d6-455a-9219-fb466800dff4",
   "metadata": {},
   "outputs": [
    {
     "data": {
      "text/plain": [
       "array([[0, 0, 0, 0],\n",
       "       [0, 0, 0, 0],\n",
       "       [0, 0, 0, 0]])"
      ]
     },
     "execution_count": 51,
     "metadata": {},
     "output_type": "execute_result"
    }
   ],
   "source": [
    "arr"
   ]
  },
  {
   "cell_type": "code",
   "execution_count": 58,
   "id": "5ae68ff4-3ed0-4b4c-8138-78700aa7bf4a",
   "metadata": {},
   "outputs": [],
   "source": [
    "a = np.array([1,2,3,4])"
   ]
  },
  {
   "cell_type": "code",
   "execution_count": 57,
   "id": "dd1594d8-98ec-44a3-abf9-fc1a56087848",
   "metadata": {},
   "outputs": [],
   "source": [
    "# arr + a \n",
    "##ValueError: operands could not be broadcast together with shapes (3,4) (5,) "
   ]
  },
  {
   "cell_type": "code",
   "execution_count": 59,
   "id": "4d75ac9d-61e5-442d-ab47-8b6ee1a1d3d2",
   "metadata": {},
   "outputs": [
    {
     "data": {
      "text/plain": [
       "array([[1, 2, 3, 4],\n",
       "       [1, 2, 3, 4],\n",
       "       [1, 2, 3, 4]])"
      ]
     },
     "execution_count": 59,
     "metadata": {},
     "output_type": "execute_result"
    }
   ],
   "source": [
    "arr + a"
   ]
  },
  {
   "cell_type": "code",
   "execution_count": 60,
   "id": "5a9a5dde-fb3a-47b4-b4ca-21aeb38057d9",
   "metadata": {},
   "outputs": [],
   "source": [
    "##this all things can we add in row wise manner \n",
    "b = np.array([[1,2,3]])"
   ]
  },
  {
   "cell_type": "code",
   "execution_count": 63,
   "id": "357053c3-abdc-4f12-9463-ab3ebca36e94",
   "metadata": {},
   "outputs": [
    {
     "data": {
      "text/plain": [
       "array([[1, 1, 1, 1],\n",
       "       [2, 2, 2, 2],\n",
       "       [3, 3, 3, 3]])"
      ]
     },
     "execution_count": 63,
     "metadata": {},
     "output_type": "execute_result"
    }
   ],
   "source": [
    "b.T + arr"
   ]
  },
  {
   "cell_type": "code",
   "execution_count": 66,
   "id": "901c79c0-d633-4e5a-aac4-45e4182ef9c0",
   "metadata": {},
   "outputs": [
    {
     "data": {
      "text/plain": [
       "array([[1.41421356, 1.        , 1.        ],\n",
       "       [1.41421356, 1.        , 1.41421356],\n",
       "       [1.        , 1.        , 1.        ]])"
      ]
     },
     "execution_count": 66,
     "metadata": {},
     "output_type": "execute_result"
    }
   ],
   "source": [
    "np.sqrt(arr1) ##this function is used to find square root of any array"
   ]
  },
  {
   "cell_type": "code",
   "execution_count": 67,
   "id": "4a450fea-50a3-45a6-a234-b9a17087f836",
   "metadata": {},
   "outputs": [
    {
     "data": {
      "text/plain": [
       "array([[0.30103, 0.     , 0.     ],\n",
       "       [0.30103, 0.     , 0.30103],\n",
       "       [0.     , 0.     , 0.     ]])"
      ]
     },
     "execution_count": 67,
     "metadata": {},
     "output_type": "execute_result"
    }
   ],
   "source": [
    "np.log10(arr1)"
   ]
  },
  {
   "cell_type": "code",
   "execution_count": 68,
   "id": "de96d137-fff8-422d-9bac-53cabc610489",
   "metadata": {},
   "outputs": [
    {
     "data": {
      "text/plain": [
       "array([[7.3890561 , 2.71828183, 2.71828183],\n",
       "       [7.3890561 , 2.71828183, 7.3890561 ],\n",
       "       [2.71828183, 2.71828183, 2.71828183]])"
      ]
     },
     "execution_count": 68,
     "metadata": {},
     "output_type": "execute_result"
    }
   ],
   "source": [
    "np.exp(arr1)"
   ]
  },
  {
   "cell_type": "code",
   "execution_count": 70,
   "id": "40069d51-1c68-43d0-b340-94c02f05aa61",
   "metadata": {},
   "outputs": [
    {
     "data": {
      "text/plain": [
       "2.5"
      ]
     },
     "execution_count": 70,
     "metadata": {},
     "output_type": "execute_result"
    }
   ],
   "source": [
    "np.mean([1,2,3,4])"
   ]
  },
  {
   "cell_type": "code",
   "execution_count": 72,
   "id": "faea17c9-f9bb-4054-8d92-44f10642e393",
   "metadata": {},
   "outputs": [
    {
     "data": {
      "text/plain": [
       "1"
      ]
     },
     "execution_count": 72,
     "metadata": {},
     "output_type": "execute_result"
    }
   ],
   "source": [
    "np.min([1,2,78,3,54])"
   ]
  },
  {
   "cell_type": "code",
   "execution_count": 73,
   "id": "9e9a0cb2-e53f-4399-b2d3-89dcbd86bcf8",
   "metadata": {},
   "outputs": [
    {
     "data": {
      "text/plain": [
       "1"
      ]
     },
     "execution_count": 73,
     "metadata": {},
     "output_type": "execute_result"
    }
   ],
   "source": [
    "np.min(arr1)"
   ]
  },
  {
   "cell_type": "code",
   "execution_count": 86,
   "id": "df140d14-5da9-4184-86fd-55010a8961c5",
   "metadata": {},
   "outputs": [
    {
     "data": {
      "text/plain": [
       "array([[2, 1, 1],\n",
       "       [2, 1, 2],\n",
       "       [1, 1, 1]])"
      ]
     },
     "execution_count": 86,
     "metadata": {},
     "output_type": "execute_result"
    }
   ],
   "source": [
    "arr1"
   ]
  },
  {
   "cell_type": "code",
   "execution_count": null,
   "id": "32290fdb-4839-402d-bd62-a90e3bf1017f",
   "metadata": {},
   "outputs": [],
   "source": [
    "#expand_dimention >> expends the array by inserting a new axis"
   ]
  },
  {
   "cell_type": "code",
   "execution_count": 103,
   "id": "993b6828-6914-4c6f-89d3-bd2a7ed44dd6",
   "metadata": {},
   "outputs": [
    {
     "data": {
      "text/plain": [
       "array([[[2, 1, 1]],\n",
       "\n",
       "       [[2, 1, 2]],\n",
       "\n",
       "       [[1, 1, 1]]])"
      ]
     },
     "execution_count": 103,
     "metadata": {},
     "output_type": "execute_result"
    }
   ],
   "source": [
    "np.expand_dims(arr1,axis=1)"
   ]
  },
  {
   "cell_type": "code",
   "execution_count": 104,
   "id": "0b984dda-5d1d-4f4e-bdf5-0c0679114c87",
   "metadata": {},
   "outputs": [
    {
     "data": {
      "text/plain": [
       "12"
      ]
     },
     "execution_count": 104,
     "metadata": {},
     "output_type": "execute_result"
    }
   ],
   "source": [
    "np.sum(arr1)"
   ]
  },
  {
   "cell_type": "code",
   "execution_count": 4,
   "id": "de4f4153-3284-434f-9f0d-d9ef62d06bc8",
   "metadata": {},
   "outputs": [],
   "source": [
    "arr = np.array([[1,2,3],[4,5,6],[7,8,9]])"
   ]
  },
  {
   "cell_type": "code",
   "execution_count": 107,
   "id": "3cea2041-3cc4-4388-8b1e-05347ed0fac5",
   "metadata": {},
   "outputs": [
    {
     "data": {
      "text/plain": [
       "array([[1, 2, 3],\n",
       "       [4, 5, 6],\n",
       "       [7, 8, 9]])"
      ]
     },
     "execution_count": 107,
     "metadata": {},
     "output_type": "execute_result"
    }
   ],
   "source": [
    "arr"
   ]
  },
  {
   "cell_type": "code",
   "execution_count": 111,
   "id": "79de1687-7fbb-483e-874e-a9aa3b7a8b97",
   "metadata": {},
   "outputs": [
    {
     "data": {
      "text/plain": [
       "array([12, 15, 18])"
      ]
     },
     "execution_count": 111,
     "metadata": {},
     "output_type": "execute_result"
    }
   ],
   "source": [
    "np.sum(arr,axis=0) #Though it seems row wise but it is calculate column wise "
   ]
  },
  {
   "cell_type": "code",
   "execution_count": 112,
   "id": "e1c09254-e8a5-47e6-8b08-7b4fda3ee4a4",
   "metadata": {},
   "outputs": [
    {
     "data": {
      "text/plain": [
       "2"
      ]
     },
     "execution_count": 112,
     "metadata": {},
     "output_type": "execute_result"
    }
   ],
   "source": [
    "arr1.ndim"
   ]
  },
  {
   "cell_type": "code",
   "execution_count": 118,
   "id": "b6688674-a324-472a-a0f6-bef47a25ccf2",
   "metadata": {},
   "outputs": [
    {
     "data": {
      "text/plain": [
       "array([[[2, 1, 1],\n",
       "        [2, 1, 2],\n",
       "        [1, 1, 1]]])"
      ]
     },
     "execution_count": 118,
     "metadata": {},
     "output_type": "execute_result"
    }
   ],
   "source": [
    "np.expand_dims(arr1,axis=0)"
   ]
  },
  {
   "cell_type": "code",
   "execution_count": 7,
   "id": "4226fbe4-2d96-4ccf-92fc-51e72c9710df",
   "metadata": {},
   "outputs": [],
   "source": [
    "data = np.array([[1],[2],[3]])"
   ]
  },
  {
   "cell_type": "code",
   "execution_count": 8,
   "id": "4006debe-57fb-4d25-bfb8-92b771ce0187",
   "metadata": {},
   "outputs": [
    {
     "data": {
      "text/plain": [
       "array([[1],\n",
       "       [2],\n",
       "       [3]])"
      ]
     },
     "execution_count": 8,
     "metadata": {},
     "output_type": "execute_result"
    }
   ],
   "source": [
    "data"
   ]
  },
  {
   "cell_type": "code",
   "execution_count": 9,
   "id": "0af97121-2713-4c66-8d23-91e3c0b075f4",
   "metadata": {},
   "outputs": [
    {
     "data": {
      "text/plain": [
       "2"
      ]
     },
     "execution_count": 9,
     "metadata": {},
     "output_type": "execute_result"
    }
   ],
   "source": [
    "data.ndim"
   ]
  },
  {
   "cell_type": "code",
   "execution_count": 10,
   "id": "bc2e7aec-6d91-448e-8b46-1ea72352a49f",
   "metadata": {},
   "outputs": [
    {
     "data": {
      "text/plain": [
       "array([1, 2, 3])"
      ]
     },
     "execution_count": 10,
     "metadata": {},
     "output_type": "execute_result"
    }
   ],
   "source": [
    "np.squeeze(data)"
   ]
  },
  {
   "cell_type": "code",
   "execution_count": 12,
   "id": "742fbf9e-bf85-4531-8702-93cb80df616b",
   "metadata": {},
   "outputs": [
    {
     "data": {
      "text/plain": [
       "array([1, 1, 1, 2, 2, 2, 3, 3, 3])"
      ]
     },
     "execution_count": 12,
     "metadata": {},
     "output_type": "execute_result"
    }
   ],
   "source": [
    "##repeat\n",
    "np.repeat(data,repeats=3)\n"
   ]
  },
  {
   "cell_type": "code",
   "execution_count": 13,
   "id": "896eec0d-a8c6-4ed2-8aad-3dfda3e5c121",
   "metadata": {},
   "outputs": [],
   "source": [
    "arr = np.array([[1,2],[3,4]])"
   ]
  },
  {
   "cell_type": "code",
   "execution_count": 16,
   "id": "e3fa7ac3-78f3-4a66-9c24-30aa9b1134e4",
   "metadata": {},
   "outputs": [
    {
     "data": {
      "text/plain": [
       "array([1, 1, 2, 2, 3, 3, 4, 4])"
      ]
     },
     "execution_count": 16,
     "metadata": {},
     "output_type": "execute_result"
    }
   ],
   "source": [
    "np.repeat(arr,repeats=2)"
   ]
  },
  {
   "cell_type": "code",
   "execution_count": 19,
   "id": "fc8d6a4d-9134-4023-93e4-fcc6be2276ee",
   "metadata": {},
   "outputs": [
    {
     "data": {
      "text/plain": [
       "array([[1, 1, 2, 2],\n",
       "       [3, 3, 4, 4]])"
      ]
     },
     "execution_count": 19,
     "metadata": {},
     "output_type": "execute_result"
    }
   ],
   "source": [
    "np.repeat(arr,repeats = 2,axis=1)"
   ]
  },
  {
   "cell_type": "code",
   "execution_count": 30,
   "id": "e6769a0f-6ab8-4ca3-a386-1d1bf7fd15e0",
   "metadata": {},
   "outputs": [
    {
     "data": {
      "text/plain": [
       "array([[3, 4],\n",
       "       [1, 2]])"
      ]
     },
     "execution_count": 30,
     "metadata": {},
     "output_type": "execute_result"
    }
   ],
   "source": [
    "np.roll(arr,2)"
   ]
  },
  {
   "cell_type": "code",
   "execution_count": 29,
   "id": "486c94a6-3e22-4caa-8ec7-728640a49bad",
   "metadata": {},
   "outputs": [
    {
     "data": {
      "text/plain": [
       "array([[3, 4],\n",
       "       [1, 2]])"
      ]
     },
     "execution_count": 29,
     "metadata": {},
     "output_type": "execute_result"
    }
   ],
   "source": [
    "np.roll(arr,-2)"
   ]
  },
  {
   "cell_type": "code",
   "execution_count": 27,
   "id": "59c2575a-e80c-4f7a-89eb-7b08840008a9",
   "metadata": {},
   "outputs": [
    {
     "data": {
      "text/plain": [
       "array([[1, 0, 0, 0],\n",
       "       [0, 2, 0, 0],\n",
       "       [0, 0, 3, 0],\n",
       "       [0, 0, 0, 4]])"
      ]
     },
     "execution_count": 27,
     "metadata": {},
     "output_type": "execute_result"
    }
   ],
   "source": [
    "np.diag(np.array([1,2,3,4]))"
   ]
  },
  {
   "cell_type": "markdown",
   "id": "6dcf15be-71bb-4a0d-9430-ce4e8cdede99",
   "metadata": {},
   "source": [
    "Binary Operation On array"
   ]
  },
  {
   "cell_type": "code",
   "execution_count": 5,
   "id": "da175e4a-5949-48ef-b8c5-1e0b2a6501db",
   "metadata": {},
   "outputs": [],
   "source": [
    "arr1 = np.random.randint(1,10,(3,4))\n",
    "arr2 = np.random.randint(1,10,(3,4))"
   ]
  },
  {
   "cell_type": "code",
   "execution_count": 6,
   "id": "0dbbdd63-ff34-428d-9ff9-210dd441620b",
   "metadata": {},
   "outputs": [
    {
     "data": {
      "text/plain": [
       "array([[7, 9, 4, 3],\n",
       "       [1, 3, 8, 2],\n",
       "       [7, 3, 6, 3]])"
      ]
     },
     "execution_count": 6,
     "metadata": {},
     "output_type": "execute_result"
    }
   ],
   "source": [
    "arr1"
   ]
  },
  {
   "cell_type": "code",
   "execution_count": 7,
   "id": "8837d037-7d16-425c-8122-a9156f457759",
   "metadata": {},
   "outputs": [
    {
     "data": {
      "text/plain": [
       "array([[2, 2, 4, 7],\n",
       "       [4, 6, 8, 2],\n",
       "       [3, 3, 3, 4]])"
      ]
     },
     "execution_count": 7,
     "metadata": {},
     "output_type": "execute_result"
    }
   ],
   "source": [
    "arr2"
   ]
  },
  {
   "cell_type": "code",
   "execution_count": 8,
   "id": "bf7a5270-8414-4f4c-8e69-40815ef37633",
   "metadata": {},
   "outputs": [
    {
     "data": {
      "text/plain": [
       "array([[ 9, 11,  8, 10],\n",
       "       [ 5,  9, 16,  4],\n",
       "       [10,  6,  9,  7]])"
      ]
     },
     "execution_count": 8,
     "metadata": {},
     "output_type": "execute_result"
    }
   ],
   "source": [
    "arr1 + arr2"
   ]
  },
  {
   "cell_type": "code",
   "execution_count": 9,
   "id": "10a809bb-c0b4-4a2e-9c23-af96cf11364b",
   "metadata": {},
   "outputs": [
    {
     "data": {
      "text/plain": [
       "array([[ 5,  7,  0, -4],\n",
       "       [-3, -3,  0,  0],\n",
       "       [ 4,  0,  3, -1]])"
      ]
     },
     "execution_count": 9,
     "metadata": {},
     "output_type": "execute_result"
    }
   ],
   "source": [
    "arr1 - arr2"
   ]
  },
  {
   "cell_type": "code",
   "execution_count": 10,
   "id": "0734b396-6a79-4c96-b8fa-bab380caaccc",
   "metadata": {},
   "outputs": [
    {
     "data": {
      "text/plain": [
       "array([[14, 18, 16, 21],\n",
       "       [ 4, 18, 64,  4],\n",
       "       [21,  9, 18, 12]])"
      ]
     },
     "execution_count": 10,
     "metadata": {},
     "output_type": "execute_result"
    }
   ],
   "source": [
    "arr1 * arr2"
   ]
  },
  {
   "cell_type": "code",
   "execution_count": 11,
   "id": "ed85cfc3-0909-456b-b920-ed648fa2d15b",
   "metadata": {},
   "outputs": [
    {
     "data": {
      "text/plain": [
       "array([[      49,       81,      256,     2187],\n",
       "       [       1,      729, 16777216,        4],\n",
       "       [     343,       27,      216,       81]])"
      ]
     },
     "execution_count": 11,
     "metadata": {},
     "output_type": "execute_result"
    }
   ],
   "source": [
    "arr1 ** arr2"
   ]
  },
  {
   "cell_type": "code",
   "execution_count": 12,
   "id": "87abb644-07d7-4a57-b8b5-e07500b355b0",
   "metadata": {},
   "outputs": [
    {
     "data": {
      "text/plain": [
       "array([[ True,  True, False, False],\n",
       "       [False, False, False, False],\n",
       "       [ True, False,  True, False]])"
      ]
     },
     "execution_count": 12,
     "metadata": {},
     "output_type": "execute_result"
    }
   ],
   "source": [
    "arr1 > arr2"
   ]
  },
  {
   "cell_type": "code",
   "execution_count": 13,
   "id": "b6a3aee8-4d19-4c14-84b3-431528156c3b",
   "metadata": {},
   "outputs": [
    {
     "data": {
      "text/plain": [
       "array([[ -8, -10,  -5,  -4],\n",
       "       [ -2,  -4,  -9,  -3],\n",
       "       [ -8,  -4,  -7,  -4]])"
      ]
     },
     "execution_count": 13,
     "metadata": {},
     "output_type": "execute_result"
    }
   ],
   "source": [
    "~arr1"
   ]
  },
  {
   "cell_type": "code",
   "execution_count": 14,
   "id": "6e7ec7b2-0c49-41af-a2e9-25143b988a37",
   "metadata": {},
   "outputs": [],
   "source": [
    "# numpy string function\n",
    "arr = np.array(['pw','skills'])"
   ]
  },
  {
   "cell_type": "code",
   "execution_count": 15,
   "id": "49b17064-35d4-4be7-bb57-cb985a05d7dd",
   "metadata": {},
   "outputs": [
    {
     "data": {
      "text/plain": [
       "array(['pw', 'skills'], dtype='<U6')"
      ]
     },
     "execution_count": 15,
     "metadata": {},
     "output_type": "execute_result"
    }
   ],
   "source": [
    "arr"
   ]
  },
  {
   "cell_type": "code",
   "execution_count": 16,
   "id": "3fed90c7-75d9-4155-ae4e-b1c7b927ddb7",
   "metadata": {},
   "outputs": [
    {
     "data": {
      "text/plain": [
       "array(['PW', 'SKILLS'], dtype='<U6')"
      ]
     },
     "execution_count": 16,
     "metadata": {},
     "output_type": "execute_result"
    }
   ],
   "source": [
    "np.char.upper(arr)"
   ]
  },
  {
   "cell_type": "code",
   "execution_count": 17,
   "id": "f2d68003-5ea3-49c8-a61c-9fe3f75b5fb3",
   "metadata": {},
   "outputs": [
    {
     "data": {
      "text/plain": [
       "array(['RAM'], dtype='<U3')"
      ]
     },
     "execution_count": 17,
     "metadata": {},
     "output_type": "execute_result"
    }
   ],
   "source": [
    "np.char.upper(np.array(['ram']))"
   ]
  },
  {
   "cell_type": "code",
   "execution_count": 18,
   "id": "cf642cb5-f7fb-4600-8078-33ca5452d879",
   "metadata": {},
   "outputs": [
    {
     "data": {
      "text/plain": [
       "array(['Pw', 'Skills'], dtype='<U6')"
      ]
     },
     "execution_count": 18,
     "metadata": {},
     "output_type": "execute_result"
    }
   ],
   "source": [
    "np.char.capitalize(arr)"
   ]
  },
  {
   "cell_type": "code",
   "execution_count": 19,
   "id": "5243f72e-92d4-41a8-a52e-83bcdbc84362",
   "metadata": {},
   "outputs": [
    {
     "data": {
      "text/plain": [
       "array(['Pw', 'Skills'], dtype='<U6')"
      ]
     },
     "execution_count": 19,
     "metadata": {},
     "output_type": "execute_result"
    }
   ],
   "source": [
    "np.char.title(arr)"
   ]
  },
  {
   "cell_type": "code",
   "execution_count": 20,
   "id": "0fd9be3b-7b73-4370-b53f-1a794d1b06e5",
   "metadata": {},
   "outputs": [
    {
     "data": {
      "text/plain": [
       "array([[ 0.6569866 ,  0.41211849, -0.7568025 ,  0.14112001],\n",
       "       [ 0.84147098,  0.14112001,  0.98935825,  0.90929743],\n",
       "       [ 0.6569866 ,  0.14112001, -0.2794155 ,  0.14112001]])"
      ]
     },
     "execution_count": 20,
     "metadata": {},
     "output_type": "execute_result"
    }
   ],
   "source": [
    "# mathemmatical functions\n",
    "np.sin(arr1)"
   ]
  },
  {
   "cell_type": "code",
   "execution_count": 21,
   "id": "bc526b46-9c09-41b2-ba5c-3a43349878e2",
   "metadata": {},
   "outputs": [
    {
     "data": {
      "text/plain": [
       "array([[ 0.75390225, -0.91113026, -0.65364362, -0.9899925 ],\n",
       "       [ 0.54030231, -0.9899925 , -0.14550003, -0.41614684],\n",
       "       [ 0.75390225, -0.9899925 ,  0.96017029, -0.9899925 ]])"
      ]
     },
     "execution_count": 21,
     "metadata": {},
     "output_type": "execute_result"
    }
   ],
   "source": [
    "np.cos(arr1)"
   ]
  },
  {
   "cell_type": "code",
   "execution_count": 22,
   "id": "32550a39-9892-4e69-b8b3-fee38dfefb9d",
   "metadata": {},
   "outputs": [
    {
     "data": {
      "text/plain": [
       "array([[ 0.87144798, -0.45231566,  1.15782128, -0.14254654],\n",
       "       [ 1.55740772, -0.14254654, -6.79971146, -2.18503986],\n",
       "       [ 0.87144798, -0.14254654, -0.29100619, -0.14254654]])"
      ]
     },
     "execution_count": 22,
     "metadata": {},
     "output_type": "execute_result"
    }
   ],
   "source": [
    "np.tan(arr1)"
   ]
  },
  {
   "cell_type": "code",
   "execution_count": 23,
   "id": "e366ccbd-a109-4a34-9998-a2fd9e79959b",
   "metadata": {},
   "outputs": [
    {
     "data": {
      "text/plain": [
       "array([[343, 729,  64,  27],\n",
       "       [  1,  27, 512,   8],\n",
       "       [343,  27, 216,  27]])"
      ]
     },
     "execution_count": 23,
     "metadata": {},
     "output_type": "execute_result"
    }
   ],
   "source": [
    "np.power(arr1,3)"
   ]
  },
  {
   "cell_type": "code",
   "execution_count": 24,
   "id": "d3a65cdf-1fc7-4026-8b4d-5946f7c469a5",
   "metadata": {},
   "outputs": [
    {
     "data": {
      "text/plain": [
       "4.666666666666667"
      ]
     },
     "execution_count": 24,
     "metadata": {},
     "output_type": "execute_result"
    }
   ],
   "source": [
    "np.mean(arr1)"
   ]
  },
  {
   "cell_type": "code",
   "execution_count": 25,
   "id": "806c1a58-2b49-4e0b-994e-ae64ff4d7063",
   "metadata": {},
   "outputs": [
    {
     "data": {
      "text/plain": [
       "2.494438257849294"
      ]
     },
     "execution_count": 25,
     "metadata": {},
     "output_type": "execute_result"
    }
   ],
   "source": [
    "np.std(arr1)"
   ]
  },
  {
   "cell_type": "code",
   "execution_count": 26,
   "id": "721d8af8-6b2c-44e1-be82-cadc61b432c5",
   "metadata": {},
   "outputs": [
    {
     "data": {
      "text/plain": [
       "9"
      ]
     },
     "execution_count": 26,
     "metadata": {},
     "output_type": "execute_result"
    }
   ],
   "source": [
    "np.max(arr1)"
   ]
  },
  {
   "cell_type": "code",
   "execution_count": 5,
   "id": "060fba6e-ddf7-4309-900e-0768ae43b732",
   "metadata": {},
   "outputs": [],
   "source": [
    "arr = np.array([5,6,1,2])"
   ]
  },
  {
   "cell_type": "code",
   "execution_count": 7,
   "id": "d36743f7-fdea-4b9f-affb-759c06d627e2",
   "metadata": {},
   "outputs": [
    {
     "data": {
      "text/plain": [
       "array([1, 2, 5, 6])"
      ]
     },
     "execution_count": 7,
     "metadata": {},
     "output_type": "execute_result"
    }
   ],
   "source": [
    "np.sort(arr)"
   ]
  },
  {
   "cell_type": "code",
   "execution_count": 8,
   "id": "64b5277f-05ad-4147-b226-050bfc18c4d4",
   "metadata": {},
   "outputs": [
    {
     "data": {
      "text/plain": [
       "4"
      ]
     },
     "execution_count": 8,
     "metadata": {},
     "output_type": "execute_result"
    }
   ],
   "source": [
    "np.searchsorted(arr,3)"
   ]
  },
  {
   "cell_type": "code",
   "execution_count": 9,
   "id": "afc9754e-7760-400c-9fa2-19eee21c3b0b",
   "metadata": {},
   "outputs": [
    {
     "data": {
      "text/plain": [
       "4"
      ]
     },
     "execution_count": 9,
     "metadata": {},
     "output_type": "execute_result"
    }
   ],
   "source": [
    "arr1 = np.array([0,1,2,3,0,4])\n",
    "np.count_nonzero(arr)"
   ]
  },
  {
   "cell_type": "code",
   "execution_count": 10,
   "id": "c14628d5-5877-4647-ae04-121fa4ecce79",
   "metadata": {},
   "outputs": [
    {
     "data": {
      "text/plain": [
       "array([False,  True,  True,  True, False,  True])"
      ]
     },
     "execution_count": 10,
     "metadata": {},
     "output_type": "execute_result"
    }
   ],
   "source": [
    "arr1>0"
   ]
  },
  {
   "cell_type": "code",
   "execution_count": 11,
   "id": "e3604abc-fef5-43c6-9164-c86c5303db55",
   "metadata": {},
   "outputs": [
    {
     "data": {
      "text/plain": [
       "(array([1, 2, 3, 5]),)"
      ]
     },
     "execution_count": 11,
     "metadata": {},
     "output_type": "execute_result"
    }
   ],
   "source": [
    "np.where(arr1>0)"
   ]
  },
  {
   "cell_type": "code",
   "execution_count": 12,
   "id": "c07f290b-9ea1-4e58-befc-3a14d1f49297",
   "metadata": {},
   "outputs": [
    {
     "data": {
      "text/plain": [
       "array([                 0,  72057594037927936, 144115188075855872,\n",
       "       216172782113783808,                  0, 288230376151711744])"
      ]
     },
     "execution_count": 12,
     "metadata": {},
     "output_type": "execute_result"
    }
   ],
   "source": [
    "arr1.byteswap()"
   ]
  },
  {
   "cell_type": "markdown",
   "id": "94e9c9ef-3536-46e5-b813-37ac68d7fd98",
   "metadata": {},
   "source": [
    "Matrix >> 2d array"
   ]
  },
  {
   "cell_type": "code",
   "execution_count": 13,
   "id": "3bbeecd9-2e70-43cb-96da-42fa01503023",
   "metadata": {},
   "outputs": [],
   "source": [
    "import numpy.matlib as nm"
   ]
  },
  {
   "cell_type": "code",
   "execution_count": 15,
   "id": "f74b1a01-cbd2-43e6-99bb-eb719faa7fb2",
   "metadata": {},
   "outputs": [
    {
     "data": {
      "text/plain": [
       "matrix([[0, 0, 0, 0, 0]])"
      ]
     },
     "execution_count": 15,
     "metadata": {},
     "output_type": "execute_result"
    }
   ],
   "source": [
    "nm.zeros(5,dtype=int)"
   ]
  },
  {
   "cell_type": "code",
   "execution_count": 16,
   "id": "c9e537b7-e257-4bcc-befa-a86034379e49",
   "metadata": {},
   "outputs": [
    {
     "data": {
      "text/plain": [
       "matrix([[1., 1., 1., 1.],\n",
       "        [1., 1., 1., 1.],\n",
       "        [1., 1., 1., 1.]])"
      ]
     },
     "execution_count": 16,
     "metadata": {},
     "output_type": "execute_result"
    }
   ],
   "source": [
    "nm.ones((3,4))"
   ]
  },
  {
   "cell_type": "raw",
   "id": "f940ae8a-77f9-40cd-a712-8c6290271d39",
   "metadata": {},
   "source": [
    "Linear Algebra"
   ]
  },
  {
   "cell_type": "code",
   "execution_count": 17,
   "id": "442b6b52-df51-4652-aff6-beb47a3af869",
   "metadata": {},
   "outputs": [],
   "source": [
    "arr1 = np.array([[1,2],[3,4]])\n",
    "arr2 = np.array([[1,3],[4,5]])"
   ]
  },
  {
   "cell_type": "code",
   "execution_count": 20,
   "id": "97e4f57d-3c67-47bc-935d-70175d904e71",
   "metadata": {},
   "outputs": [
    {
     "data": {
      "text/plain": [
       "array([[1, 2],\n",
       "       [3, 4]])"
      ]
     },
     "execution_count": 20,
     "metadata": {},
     "output_type": "execute_result"
    }
   ],
   "source": [
    "arr1"
   ]
  },
  {
   "cell_type": "code",
   "execution_count": 21,
   "id": "785d8a04-d76e-444d-8d6d-753adf719f54",
   "metadata": {},
   "outputs": [
    {
     "data": {
      "text/plain": [
       "array([[1, 3],\n",
       "       [4, 5]])"
      ]
     },
     "execution_count": 21,
     "metadata": {},
     "output_type": "execute_result"
    }
   ],
   "source": [
    "arr2"
   ]
  },
  {
   "cell_type": "code",
   "execution_count": 22,
   "id": "0bc7d0e9-1636-4193-ba78-c4dd0c51de2b",
   "metadata": {},
   "outputs": [
    {
     "data": {
      "text/plain": [
       "array([[ 9, 13],\n",
       "       [19, 29]])"
      ]
     },
     "execution_count": 22,
     "metadata": {},
     "output_type": "execute_result"
    }
   ],
   "source": [
    "arr1 @ arr2"
   ]
  },
  {
   "cell_type": "code",
   "execution_count": 23,
   "id": "334bfb19-0bdb-4a70-884a-6e01da3457e8",
   "metadata": {},
   "outputs": [],
   "source": [
    "a = np.array([[7,5,-3],[2,-5,2],[5,3,-7]])"
   ]
  },
  {
   "cell_type": "code",
   "execution_count": 24,
   "id": "fc608043-3c99-4a34-9d1e-0e941a8601e6",
   "metadata": {},
   "outputs": [
    {
     "data": {
      "text/plain": [
       "array([[ 7,  5, -3],\n",
       "       [ 2, -5,  2],\n",
       "       [ 5,  3, -7]])"
      ]
     },
     "execution_count": 24,
     "metadata": {},
     "output_type": "execute_result"
    }
   ],
   "source": [
    "a"
   ]
  },
  {
   "cell_type": "code",
   "execution_count": 25,
   "id": "6c7d37ec-0a7b-4871-8e1d-bd051ee5a745",
   "metadata": {},
   "outputs": [],
   "source": [
    "b = np.array([16,-8,0])"
   ]
  },
  {
   "cell_type": "code",
   "execution_count": 26,
   "id": "7cee189e-9558-4f4e-b669-7adb96d40353",
   "metadata": {},
   "outputs": [
    {
     "data": {
      "text/plain": [
       "array([16, -8,  0])"
      ]
     },
     "execution_count": 26,
     "metadata": {},
     "output_type": "execute_result"
    }
   ],
   "source": [
    "b"
   ]
  },
  {
   "cell_type": "code",
   "execution_count": 27,
   "id": "f67b66e2-5baf-4992-bf8b-f8418f98c3ad",
   "metadata": {},
   "outputs": [
    {
     "data": {
      "text/plain": [
       "array([1.11304348, 2.85217391, 2.0173913 ])"
      ]
     },
     "execution_count": 27,
     "metadata": {},
     "output_type": "execute_result"
    }
   ],
   "source": [
    "np.linalg.solve(a,b)"
   ]
  },
  {
   "cell_type": "code",
   "execution_count": 28,
   "id": "3344477f-656d-4108-bfae-990764809d0f",
   "metadata": {},
   "outputs": [
    {
     "data": {
      "text/plain": [
       "230.00000000000006"
      ]
     },
     "execution_count": 28,
     "metadata": {},
     "output_type": "execute_result"
    }
   ],
   "source": [
    "##determinant using numpy\n",
    "np.linalg.det(a)"
   ]
  },
  {
   "cell_type": "code",
   "execution_count": 29,
   "id": "4324a2e4-fdd5-4f88-9833-339c4d32c421",
   "metadata": {},
   "outputs": [
    {
     "data": {
      "text/plain": [
       "array([[ 0.12608696,  0.11304348, -0.02173913],\n",
       "       [ 0.10434783, -0.14782609, -0.08695652],\n",
       "       [ 0.13478261,  0.0173913 , -0.19565217]])"
      ]
     },
     "execution_count": 29,
     "metadata": {},
     "output_type": "execute_result"
    }
   ],
   "source": [
    "np.linalg.inv(a)"
   ]
  },
  {
   "cell_type": "code",
   "execution_count": null,
   "id": "38f41b06-afd6-4f3c-a878-4da28d37315c",
   "metadata": {},
   "outputs": [],
   "source": []
  },
  {
   "cell_type": "code",
   "execution_count": null,
   "id": "dcf6a86a-7f06-49ea-8c35-17804862da46",
   "metadata": {},
   "outputs": [],
   "source": []
  },
  {
   "cell_type": "code",
   "execution_count": null,
   "id": "f93ffb79-7cdf-4ae6-b7b0-a594ef30d624",
   "metadata": {},
   "outputs": [],
   "source": []
  },
  {
   "cell_type": "code",
   "execution_count": null,
   "id": "e2d2d3c4-05f6-4982-b78c-9eca58b7d5de",
   "metadata": {},
   "outputs": [],
   "source": []
  },
  {
   "cell_type": "code",
   "execution_count": null,
   "id": "2fb472df-4cdf-4cd7-9096-4d14f91330be",
   "metadata": {},
   "outputs": [],
   "source": []
  },
  {
   "cell_type": "code",
   "execution_count": null,
   "id": "5bf940b9-1399-4dd0-8bd6-0dfca969b738",
   "metadata": {},
   "outputs": [],
   "source": []
  },
  {
   "cell_type": "code",
   "execution_count": null,
   "id": "3b4d797c-af83-4bd0-8b82-994a10f78fac",
   "metadata": {},
   "outputs": [],
   "source": []
  },
  {
   "cell_type": "code",
   "execution_count": null,
   "id": "80b2a8eb-e789-4da2-a240-59910eb80b75",
   "metadata": {},
   "outputs": [],
   "source": []
  },
  {
   "cell_type": "code",
   "execution_count": null,
   "id": "a5c3d7b2-2d90-4539-b560-6e7e8968a592",
   "metadata": {},
   "outputs": [],
   "source": []
  },
  {
   "cell_type": "code",
   "execution_count": null,
   "id": "f27c8d3d-c8a7-49e9-8ec9-c8232e7977b9",
   "metadata": {},
   "outputs": [],
   "source": []
  },
  {
   "cell_type": "code",
   "execution_count": null,
   "id": "aa76bca3-92a1-4b57-9e7b-ef3615ea2c40",
   "metadata": {},
   "outputs": [],
   "source": []
  }
 ],
 "metadata": {
  "kernelspec": {
   "display_name": "Python 3 (ipykernel)",
   "language": "python",
   "name": "python3"
  },
  "language_info": {
   "codemirror_mode": {
    "name": "ipython",
    "version": 3
   },
   "file_extension": ".py",
   "mimetype": "text/x-python",
   "name": "python",
   "nbconvert_exporter": "python",
   "pygments_lexer": "ipython3",
   "version": "3.10.8"
  }
 },
 "nbformat": 4,
 "nbformat_minor": 5
}
